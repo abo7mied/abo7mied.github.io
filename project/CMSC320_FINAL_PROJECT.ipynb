{
  "nbformat": 4,
  "nbformat_minor": 0,
  "metadata": {
    "colab": {
      "provenance": [],
      "collapsed_sections": [
        "l059eAzf76Bl"
      ]
    },
    "kernelspec": {
      "name": "python3",
      "display_name": "Python 3"
    },
    "language_info": {
      "name": "python"
    }
  },
  "cells": [
    {
      "cell_type": "markdown",
      "source": [
        "### **Real Estate Investemnt at Saudi Arabia Market**"
      ],
      "metadata": {
        "id": "QcTtFL2wLL7-"
      }
    },
    {
      "cell_type": "markdown",
      "source": [
        "Member 1: Ahmed Alzahrani, Contribution: 100%\n",
        "Member 2: Abdulrahman Albeladi, Contribution: 100%\n",
        "\n",
        "We, all team members, agree together that the above information is true, and we are confident about our contributions to this submitted project/final tutorial.\n",
        "Ahmed Alzahrani, 7 May, 2024\n",
        "Abdulrahman Albeladi, 7 Mat, 2024"
      ],
      "metadata": {
        "id": "8PFRWIO5LEjd"
      }
    },
    {
      "cell_type": "markdown",
      "source": [
        "Ahmed Alzahrani: Handled Conclusions 1 and 2. Handled Machine Learning section. Found the chosen database.\n",
        "Abdulrahman Albeladi: Handled Conclusion 3. Handled visual graphs. Handled the introduction and description of the document."
      ],
      "metadata": {
        "id": "arbotUa6WACW"
      }
    },
    {
      "cell_type": "markdown",
      "source": [
        "Names:\n",
        "Abdulrahman Albeladi 119271452\n",
        "Ahmed Alzahrani 119271896"
      ],
      "metadata": {
        "id": "BjCZH1-UC4TG"
      }
    },
    {
      "cell_type": "markdown",
      "source": [
        "# Communication"
      ],
      "metadata": {
        "id": "WMKGWSGXKB80"
      }
    },
    {
      "cell_type": "markdown",
      "source": [
        "issues in the dataset and how to handle them:\n",
        "- huge in size (1.1 GB); this can be addressed by deleting unused columns and non-needed categroies.\n",
        "- not all columns are relevant; we can get rid of columns such as \"link\", \"path\", \"images\", \"latitude\"...\n",
        "- columns named with dots like \"user.review\" cannot be selected in queries (no such column issue); we should address this by changing th dots to underscore.\n",
        "- kitchen column is named ketchen; we can just change that as well.\n",
        "- category numbering not intuitive; we need a dictionary for easier reference.\n",
        "\n"
      ],
      "metadata": {
        "id": "yXWnc33dKI7-"
      }
    },
    {
      "cell_type": "markdown",
      "source": [
        "Our data has 23 different categories. Each category indicates the type of proprety and whether it's for sale of rental.\n",
        "category column description:\n",
        "- - 1= Apartment, rental\n",
        "- - 2= Land, sell\n",
        "- - 3= Villa, sell\n",
        "- - 4= Floor, rental\n",
        "- - 5= Villa, rental\n",
        "- - 6= Apartment, sell\n",
        "- - 7= Building, sell\n",
        "- - 8= Store, rental\n",
        "- - 9= House, sell\n",
        "- - 10= Esterahah, sell\n",
        "- - 11= House, rental\n",
        "- - 12= Farm, sell\n",
        "- - 13= Esterahah, rental\n",
        "- - 14= Office, rental\n",
        "- - 15= Land, rental\n",
        "- - 16= Building, rental\n",
        "- - 17= Warehouse, rental\n",
        "- - 18= Campsite, rental\n",
        "- - 19= Room, rental\n",
        "- - 20= Store, sell\n",
        "- - 21= Furnished apartment\n",
        "- - 22= Floor, sell\n",
        "- - 23= Chalet, rental\n",
        "\n",
        "It's important to note the significant differences and values of these categories as these factors make huge disparities in their price, location, area, preference of investment, and many other considerations. It would be unfair to compare the prices or areas of houses with Esterahahs (motel) for example. We need to use our economical/societal awareness as well as our knowledge about these differences to make valid choices of what to explore, study, and analyze."
      ],
      "metadata": {
        "id": "IhChZ8BHLWsG"
      }
    },
    {
      "cell_type": "markdown",
      "source": [
        "# Introduction"
      ],
      "metadata": {
        "id": "l059eAzf76Bl"
      }
    },
    {
      "cell_type": "markdown",
      "source": [
        "Real Estate is one of the, if not the most, crucial and largest parts of economy. Investements in real estate has been a highly recommended and a very profitbale way throught the past decades as housing andlnads prices as increased dramtically in many places around the world. Thanks to the new world stable world system, full of technologies and medical advancements to ease life and increase average life span, the Earth population has gone up to unprecdented rates. Socities are moving to advanced citiies influenced by modernization. Inflation of goods and currencies has shown constant rise in the past 7 decades. All this accumulating to the increasing value of real estate over time, making one of the most successfull investments one could make.\n",
        "\n",
        "With no income taxes, low maintainance costs, and no bank interest, Saudi Arabia becomes a very reliable country to invest in its real estate. The period the country is living today is one where changes are happening rapidly in every measure and every field as its 2030 vision is strongly making the wanted change. This is resulting in a numerous inflation, especially in real estate.\n",
        "\n",
        "Our goal in this report, is to look at large exisitng data of real estate in Saudi Arabia and analyze its various aspects. We will focus on the most important regions to invest in and the different carestaristics of properties to invest in. Moreover, we will use machine learning to identify the best model tomake maximum profit out of investment.\n",
        "\n",
        "\n",
        "Datasets: Saudi Arabia Real Estate Dataset (AQAR)\n",
        "Table: \"Listings\"\n",
        "https://colab.research.google.com/drive/1cIdILK0Kyt_swUAszAAplU2e8fsCZAK6#scrollTo=b_ZrP1zn-aPw&line=7&uniqifier=1\n",
        "\n",
        "Reasons of choosing this specifc dataset:\n",
        "First, we do not consider any dataset that is not large, looks messy, excludes categorical\n",
        "or continuous data types, or is visual or auditory. Then, we look for datasets that inform\n",
        "decisions we sometime in my life will probably seek advice to make anyways, hence my\n",
        "interest in investing. We chose tis dataset because real estate is more likely to be\n",
        "necessary sometime in my life than stock shares are, because we want to learn to\n",
        "manipulate non-ASCII data as well as ASCII data, and because we likely will spend most my life in Saudi Arabia."
      ],
      "metadata": {
        "id": "b_ZrP1zn-aPw"
      }
    },
    {
      "cell_type": "markdown",
      "source": [
        "# Data Preprocessing"
      ],
      "metadata": {
        "id": "v4ruNRpv9hLs"
      }
    },
    {
      "cell_type": "markdown",
      "source": [
        "The stage of processing the data is vital since it paves the way for using the data for analysis, machine training and testing, or visual graphing.\n",
        "We will start by setting up the environment by importing all the needed tools and libraries for our use.\n",
        "Then comes the proccess of deleting unwanted columns from data, deleting non-needed categroies, changing somecolumn names, and fixing category numbering."
      ],
      "metadata": {
        "id": "y1T98p_blHQf"
      }
    },
    {
      "cell_type": "markdown",
      "source": [
        "## setup"
      ],
      "metadata": {
        "id": "15Re0-Do-Fm3"
      }
    },
    {
      "cell_type": "code",
      "source": [
        "# import libraries\n",
        "import sqlite3\n",
        "import pandas as pd\n",
        "import scipy.stats as stats\n",
        "import matplotlib.pyplot as plt\n",
        "import seaborn as sns\n",
        "from datetime import datetime"
      ],
      "metadata": {
        "id": "HhdpWeLt9IAJ"
      },
      "execution_count": 109,
      "outputs": []
    },
    {
      "cell_type": "code",
      "source": [
        "# set up sql connection\n",
        "conn = sqlite3.connect(\"database.db\")\n",
        "crsr = conn.cursor()"
      ],
      "metadata": {
        "id": "BEbqVxyU9Qne"
      },
      "execution_count": 110,
      "outputs": []
    },
    {
      "cell_type": "markdown",
      "source": [
        "## parsing"
      ],
      "metadata": {
        "id": "nlGDdHpV9zvG"
      }
    },
    {
      "cell_type": "code",
      "source": [
        "query = 'SELECT * FROM Listings'\n",
        "\n",
        "df = pd.read_sql(query, conn)\n",
        "df.head()"
      ],
      "metadata": {
        "colab": {
          "base_uri": "https://localhost:8080/",
          "height": 741
        },
        "id": "gpOcl1RP-WeU",
        "outputId": "4b78a707-8dd0-4d1b-cad8-f94408988597"
      },
      "execution_count": 111,
      "outputs": [
        {
          "output_type": "execute_result",
          "data": {
            "text/plain": [
              "   user_id    id                                                uri  \\\n",
              "0    10065  4331                  شارع-الياقوت-الدار-البيضاء-الرياض   \n",
              "1    11005  4837  طريق-الملك-عبدالله-بن-عبدالعزيز-الفرعي-المغرزا...   \n",
              "2     8017  5498                    5-المملكة-العربية-السعودية-5498   \n",
              "3    13810  6520                      شارع-Saher-Al-Garbee-St-ذهبان   \n",
              "4     5234  8847         طريق-الملك-خالد-حي-الثقبة-الخبر-الخبر-8847   \n",
              "\n",
              "                                               title       price  \\\n",
              "0   أرض للبيع في شارع الياقوت, الدار البيضاء, الرياض   1958400.0   \n",
              "1  أرض للبيع في طريق الملك عبدالله بن عبدالعزيز ا...  15078000.0   \n",
              "2            أرض للبيع في 5 المملكة العربية السعودية   8057700.0   \n",
              "3     أرض للإيجار في شارع الهزاعية, حي العشيرية, جدة     50000.0   \n",
              "4  أرض للبيع في طريق الملك خالد ، حي الثقبة ، الخ...   3000000.0   \n",
              "\n",
              "                                             content  \\\n",
              "0                 تجاريه ش ياقوت ٦٠ مساحه ٨١٦ تقريبا   \n",
              "1  الارض على طريق الملك عبدالله على شارعين مظاهره...   \n",
              "2  الارض استثماريه في محافظة البرك طريق جده جازان...   \n",
              "3  السلام عليكم ورحمة الله وبركاته\\nوكل عام وانتم...   \n",
              "4  ارض للبيع لبناء شقق فندقيه او عمارات سكنيه خلف...   \n",
              "\n",
              "                                                imgs     refresh  category  \\\n",
              "0                    [\"000000000_1627687178830.jpg\"]  1672495809         2   \n",
              "1                    [\"000000000_1627687181813.jpg\"]  1672040788         2   \n",
              "2  [\"506610555_1417214243205.jpg\",\"506610555_1417...  1671819056         2   \n",
              "3  [\"504121665_1418232181483.jpg\",\"504121665_1418...  1672190424        15   \n",
              "4  [\"567772202_1632148243568.png\",\"000052346_1661...  1672253180         2   \n",
              "\n",
              "   beds  ...          district  district_id  width  length  advertiser_type  \\\n",
              "0   0.0  ...  حي الدار البيضاء          424   25.0    32.0             None   \n",
              "1   0.0  ...       حي المغرزات          566    NaN     NaN             None   \n",
              "2   0.0  ...         حي الروضة         4100    NaN     NaN             None   \n",
              "3   0.0  ...         حي الرياض         3490   20.0    20.0             None   \n",
              "4   0.0  ...         حي الثقبة         1060    NaN     NaN             None   \n",
              "\n",
              "   create_time  has_extended_details  daily_rentable  \\\n",
              "0   1415294130                   NaN             0.0   \n",
              "1   1416054461                   NaN             0.0   \n",
              "2   1417220044                   NaN             0.0   \n",
              "3   1418232587                   NaN             0.0   \n",
              "4   1420232812                   NaN             0.0   \n",
              "\n",
              "                        createdAt                       updatedAt  \n",
              "0  2023-01-01 14:13:28.553 +00:00  2023-01-01 14:13:28.553 +00:00  \n",
              "1  2023-01-01 14:52:38.169 +00:00  2023-01-01 14:52:38.169 +00:00  \n",
              "2  2023-01-01 15:01:52.351 +00:00  2023-01-01 15:01:52.351 +00:00  \n",
              "3  2023-01-01 14:43:23.326 +00:00  2023-01-01 14:43:23.326 +00:00  \n",
              "4  2023-01-01 14:38:46.004 +00:00  2023-01-01 14:38:46.004 +00:00  \n",
              "\n",
              "[5 rows x 48 columns]"
            ],
            "text/html": [
              "\n",
              "  <div id=\"df-195caab9-e109-43aa-bd69-a5c214e9d668\" class=\"colab-df-container\">\n",
              "    <div>\n",
              "<style scoped>\n",
              "    .dataframe tbody tr th:only-of-type {\n",
              "        vertical-align: middle;\n",
              "    }\n",
              "\n",
              "    .dataframe tbody tr th {\n",
              "        vertical-align: top;\n",
              "    }\n",
              "\n",
              "    .dataframe thead th {\n",
              "        text-align: right;\n",
              "    }\n",
              "</style>\n",
              "<table border=\"1\" class=\"dataframe\">\n",
              "  <thead>\n",
              "    <tr style=\"text-align: right;\">\n",
              "      <th></th>\n",
              "      <th>user_id</th>\n",
              "      <th>id</th>\n",
              "      <th>uri</th>\n",
              "      <th>title</th>\n",
              "      <th>price</th>\n",
              "      <th>content</th>\n",
              "      <th>imgs</th>\n",
              "      <th>refresh</th>\n",
              "      <th>category</th>\n",
              "      <th>beds</th>\n",
              "      <th>...</th>\n",
              "      <th>district</th>\n",
              "      <th>district_id</th>\n",
              "      <th>width</th>\n",
              "      <th>length</th>\n",
              "      <th>advertiser_type</th>\n",
              "      <th>create_time</th>\n",
              "      <th>has_extended_details</th>\n",
              "      <th>daily_rentable</th>\n",
              "      <th>createdAt</th>\n",
              "      <th>updatedAt</th>\n",
              "    </tr>\n",
              "  </thead>\n",
              "  <tbody>\n",
              "    <tr>\n",
              "      <th>0</th>\n",
              "      <td>10065</td>\n",
              "      <td>4331</td>\n",
              "      <td>شارع-الياقوت-الدار-البيضاء-الرياض</td>\n",
              "      <td>أرض للبيع في شارع الياقوت, الدار البيضاء, الرياض</td>\n",
              "      <td>1958400.0</td>\n",
              "      <td>تجاريه ش ياقوت ٦٠ مساحه ٨١٦ تقريبا</td>\n",
              "      <td>[\"000000000_1627687178830.jpg\"]</td>\n",
              "      <td>1672495809</td>\n",
              "      <td>2</td>\n",
              "      <td>0.0</td>\n",
              "      <td>...</td>\n",
              "      <td>حي الدار البيضاء</td>\n",
              "      <td>424</td>\n",
              "      <td>25.0</td>\n",
              "      <td>32.0</td>\n",
              "      <td>None</td>\n",
              "      <td>1415294130</td>\n",
              "      <td>NaN</td>\n",
              "      <td>0.0</td>\n",
              "      <td>2023-01-01 14:13:28.553 +00:00</td>\n",
              "      <td>2023-01-01 14:13:28.553 +00:00</td>\n",
              "    </tr>\n",
              "    <tr>\n",
              "      <th>1</th>\n",
              "      <td>11005</td>\n",
              "      <td>4837</td>\n",
              "      <td>طريق-الملك-عبدالله-بن-عبدالعزيز-الفرعي-المغرزا...</td>\n",
              "      <td>أرض للبيع في طريق الملك عبدالله بن عبدالعزيز ا...</td>\n",
              "      <td>15078000.0</td>\n",
              "      <td>الارض على طريق الملك عبدالله على شارعين مظاهره...</td>\n",
              "      <td>[\"000000000_1627687181813.jpg\"]</td>\n",
              "      <td>1672040788</td>\n",
              "      <td>2</td>\n",
              "      <td>0.0</td>\n",
              "      <td>...</td>\n",
              "      <td>حي المغرزات</td>\n",
              "      <td>566</td>\n",
              "      <td>NaN</td>\n",
              "      <td>NaN</td>\n",
              "      <td>None</td>\n",
              "      <td>1416054461</td>\n",
              "      <td>NaN</td>\n",
              "      <td>0.0</td>\n",
              "      <td>2023-01-01 14:52:38.169 +00:00</td>\n",
              "      <td>2023-01-01 14:52:38.169 +00:00</td>\n",
              "    </tr>\n",
              "    <tr>\n",
              "      <th>2</th>\n",
              "      <td>8017</td>\n",
              "      <td>5498</td>\n",
              "      <td>5-المملكة-العربية-السعودية-5498</td>\n",
              "      <td>أرض للبيع في 5 المملكة العربية السعودية</td>\n",
              "      <td>8057700.0</td>\n",
              "      <td>الارض استثماريه في محافظة البرك طريق جده جازان...</td>\n",
              "      <td>[\"506610555_1417214243205.jpg\",\"506610555_1417...</td>\n",
              "      <td>1671819056</td>\n",
              "      <td>2</td>\n",
              "      <td>0.0</td>\n",
              "      <td>...</td>\n",
              "      <td>حي الروضة</td>\n",
              "      <td>4100</td>\n",
              "      <td>NaN</td>\n",
              "      <td>NaN</td>\n",
              "      <td>None</td>\n",
              "      <td>1417220044</td>\n",
              "      <td>NaN</td>\n",
              "      <td>0.0</td>\n",
              "      <td>2023-01-01 15:01:52.351 +00:00</td>\n",
              "      <td>2023-01-01 15:01:52.351 +00:00</td>\n",
              "    </tr>\n",
              "    <tr>\n",
              "      <th>3</th>\n",
              "      <td>13810</td>\n",
              "      <td>6520</td>\n",
              "      <td>شارع-Saher-Al-Garbee-St-ذهبان</td>\n",
              "      <td>أرض للإيجار في شارع الهزاعية, حي العشيرية, جدة</td>\n",
              "      <td>50000.0</td>\n",
              "      <td>السلام عليكم ورحمة الله وبركاته\\nوكل عام وانتم...</td>\n",
              "      <td>[\"504121665_1418232181483.jpg\",\"504121665_1418...</td>\n",
              "      <td>1672190424</td>\n",
              "      <td>15</td>\n",
              "      <td>0.0</td>\n",
              "      <td>...</td>\n",
              "      <td>حي الرياض</td>\n",
              "      <td>3490</td>\n",
              "      <td>20.0</td>\n",
              "      <td>20.0</td>\n",
              "      <td>None</td>\n",
              "      <td>1418232587</td>\n",
              "      <td>NaN</td>\n",
              "      <td>0.0</td>\n",
              "      <td>2023-01-01 14:43:23.326 +00:00</td>\n",
              "      <td>2023-01-01 14:43:23.326 +00:00</td>\n",
              "    </tr>\n",
              "    <tr>\n",
              "      <th>4</th>\n",
              "      <td>5234</td>\n",
              "      <td>8847</td>\n",
              "      <td>طريق-الملك-خالد-حي-الثقبة-الخبر-الخبر-8847</td>\n",
              "      <td>أرض للبيع في طريق الملك خالد ، حي الثقبة ، الخ...</td>\n",
              "      <td>3000000.0</td>\n",
              "      <td>ارض للبيع لبناء شقق فندقيه او عمارات سكنيه خلف...</td>\n",
              "      <td>[\"567772202_1632148243568.png\",\"000052346_1661...</td>\n",
              "      <td>1672253180</td>\n",
              "      <td>2</td>\n",
              "      <td>0.0</td>\n",
              "      <td>...</td>\n",
              "      <td>حي الثقبة</td>\n",
              "      <td>1060</td>\n",
              "      <td>NaN</td>\n",
              "      <td>NaN</td>\n",
              "      <td>None</td>\n",
              "      <td>1420232812</td>\n",
              "      <td>NaN</td>\n",
              "      <td>0.0</td>\n",
              "      <td>2023-01-01 14:38:46.004 +00:00</td>\n",
              "      <td>2023-01-01 14:38:46.004 +00:00</td>\n",
              "    </tr>\n",
              "  </tbody>\n",
              "</table>\n",
              "<p>5 rows × 48 columns</p>\n",
              "</div>\n",
              "    <div class=\"colab-df-buttons\">\n",
              "\n",
              "  <div class=\"colab-df-container\">\n",
              "    <button class=\"colab-df-convert\" onclick=\"convertToInteractive('df-195caab9-e109-43aa-bd69-a5c214e9d668')\"\n",
              "            title=\"Convert this dataframe to an interactive table.\"\n",
              "            style=\"display:none;\">\n",
              "\n",
              "  <svg xmlns=\"http://www.w3.org/2000/svg\" height=\"24px\" viewBox=\"0 -960 960 960\">\n",
              "    <path d=\"M120-120v-720h720v720H120Zm60-500h600v-160H180v160Zm220 220h160v-160H400v160Zm0 220h160v-160H400v160ZM180-400h160v-160H180v160Zm440 0h160v-160H620v160ZM180-180h160v-160H180v160Zm440 0h160v-160H620v160Z\"/>\n",
              "  </svg>\n",
              "    </button>\n",
              "\n",
              "  <style>\n",
              "    .colab-df-container {\n",
              "      display:flex;\n",
              "      gap: 12px;\n",
              "    }\n",
              "\n",
              "    .colab-df-convert {\n",
              "      background-color: #E8F0FE;\n",
              "      border: none;\n",
              "      border-radius: 50%;\n",
              "      cursor: pointer;\n",
              "      display: none;\n",
              "      fill: #1967D2;\n",
              "      height: 32px;\n",
              "      padding: 0 0 0 0;\n",
              "      width: 32px;\n",
              "    }\n",
              "\n",
              "    .colab-df-convert:hover {\n",
              "      background-color: #E2EBFA;\n",
              "      box-shadow: 0px 1px 2px rgba(60, 64, 67, 0.3), 0px 1px 3px 1px rgba(60, 64, 67, 0.15);\n",
              "      fill: #174EA6;\n",
              "    }\n",
              "\n",
              "    .colab-df-buttons div {\n",
              "      margin-bottom: 4px;\n",
              "    }\n",
              "\n",
              "    [theme=dark] .colab-df-convert {\n",
              "      background-color: #3B4455;\n",
              "      fill: #D2E3FC;\n",
              "    }\n",
              "\n",
              "    [theme=dark] .colab-df-convert:hover {\n",
              "      background-color: #434B5C;\n",
              "      box-shadow: 0px 1px 3px 1px rgba(0, 0, 0, 0.15);\n",
              "      filter: drop-shadow(0px 1px 2px rgba(0, 0, 0, 0.3));\n",
              "      fill: #FFFFFF;\n",
              "    }\n",
              "  </style>\n",
              "\n",
              "    <script>\n",
              "      const buttonEl =\n",
              "        document.querySelector('#df-195caab9-e109-43aa-bd69-a5c214e9d668 button.colab-df-convert');\n",
              "      buttonEl.style.display =\n",
              "        google.colab.kernel.accessAllowed ? 'block' : 'none';\n",
              "\n",
              "      async function convertToInteractive(key) {\n",
              "        const element = document.querySelector('#df-195caab9-e109-43aa-bd69-a5c214e9d668');\n",
              "        const dataTable =\n",
              "          await google.colab.kernel.invokeFunction('convertToInteractive',\n",
              "                                                    [key], {});\n",
              "        if (!dataTable) return;\n",
              "\n",
              "        const docLinkHtml = 'Like what you see? Visit the ' +\n",
              "          '<a target=\"_blank\" href=https://colab.research.google.com/notebooks/data_table.ipynb>data table notebook</a>'\n",
              "          + ' to learn more about interactive tables.';\n",
              "        element.innerHTML = '';\n",
              "        dataTable['output_type'] = 'display_data';\n",
              "        await google.colab.output.renderOutput(dataTable, element);\n",
              "        const docLink = document.createElement('div');\n",
              "        docLink.innerHTML = docLinkHtml;\n",
              "        element.appendChild(docLink);\n",
              "      }\n",
              "    </script>\n",
              "  </div>\n",
              "\n",
              "\n",
              "<div id=\"df-6cee651a-e896-4464-8da5-bedcf1e8565c\">\n",
              "  <button class=\"colab-df-quickchart\" onclick=\"quickchart('df-6cee651a-e896-4464-8da5-bedcf1e8565c')\"\n",
              "            title=\"Suggest charts\"\n",
              "            style=\"display:none;\">\n",
              "\n",
              "<svg xmlns=\"http://www.w3.org/2000/svg\" height=\"24px\"viewBox=\"0 0 24 24\"\n",
              "     width=\"24px\">\n",
              "    <g>\n",
              "        <path d=\"M19 3H5c-1.1 0-2 .9-2 2v14c0 1.1.9 2 2 2h14c1.1 0 2-.9 2-2V5c0-1.1-.9-2-2-2zM9 17H7v-7h2v7zm4 0h-2V7h2v10zm4 0h-2v-4h2v4z\"/>\n",
              "    </g>\n",
              "</svg>\n",
              "  </button>\n",
              "\n",
              "<style>\n",
              "  .colab-df-quickchart {\n",
              "      --bg-color: #E8F0FE;\n",
              "      --fill-color: #1967D2;\n",
              "      --hover-bg-color: #E2EBFA;\n",
              "      --hover-fill-color: #174EA6;\n",
              "      --disabled-fill-color: #AAA;\n",
              "      --disabled-bg-color: #DDD;\n",
              "  }\n",
              "\n",
              "  [theme=dark] .colab-df-quickchart {\n",
              "      --bg-color: #3B4455;\n",
              "      --fill-color: #D2E3FC;\n",
              "      --hover-bg-color: #434B5C;\n",
              "      --hover-fill-color: #FFFFFF;\n",
              "      --disabled-bg-color: #3B4455;\n",
              "      --disabled-fill-color: #666;\n",
              "  }\n",
              "\n",
              "  .colab-df-quickchart {\n",
              "    background-color: var(--bg-color);\n",
              "    border: none;\n",
              "    border-radius: 50%;\n",
              "    cursor: pointer;\n",
              "    display: none;\n",
              "    fill: var(--fill-color);\n",
              "    height: 32px;\n",
              "    padding: 0;\n",
              "    width: 32px;\n",
              "  }\n",
              "\n",
              "  .colab-df-quickchart:hover {\n",
              "    background-color: var(--hover-bg-color);\n",
              "    box-shadow: 0 1px 2px rgba(60, 64, 67, 0.3), 0 1px 3px 1px rgba(60, 64, 67, 0.15);\n",
              "    fill: var(--button-hover-fill-color);\n",
              "  }\n",
              "\n",
              "  .colab-df-quickchart-complete:disabled,\n",
              "  .colab-df-quickchart-complete:disabled:hover {\n",
              "    background-color: var(--disabled-bg-color);\n",
              "    fill: var(--disabled-fill-color);\n",
              "    box-shadow: none;\n",
              "  }\n",
              "\n",
              "  .colab-df-spinner {\n",
              "    border: 2px solid var(--fill-color);\n",
              "    border-color: transparent;\n",
              "    border-bottom-color: var(--fill-color);\n",
              "    animation:\n",
              "      spin 1s steps(1) infinite;\n",
              "  }\n",
              "\n",
              "  @keyframes spin {\n",
              "    0% {\n",
              "      border-color: transparent;\n",
              "      border-bottom-color: var(--fill-color);\n",
              "      border-left-color: var(--fill-color);\n",
              "    }\n",
              "    20% {\n",
              "      border-color: transparent;\n",
              "      border-left-color: var(--fill-color);\n",
              "      border-top-color: var(--fill-color);\n",
              "    }\n",
              "    30% {\n",
              "      border-color: transparent;\n",
              "      border-left-color: var(--fill-color);\n",
              "      border-top-color: var(--fill-color);\n",
              "      border-right-color: var(--fill-color);\n",
              "    }\n",
              "    40% {\n",
              "      border-color: transparent;\n",
              "      border-right-color: var(--fill-color);\n",
              "      border-top-color: var(--fill-color);\n",
              "    }\n",
              "    60% {\n",
              "      border-color: transparent;\n",
              "      border-right-color: var(--fill-color);\n",
              "    }\n",
              "    80% {\n",
              "      border-color: transparent;\n",
              "      border-right-color: var(--fill-color);\n",
              "      border-bottom-color: var(--fill-color);\n",
              "    }\n",
              "    90% {\n",
              "      border-color: transparent;\n",
              "      border-bottom-color: var(--fill-color);\n",
              "    }\n",
              "  }\n",
              "</style>\n",
              "\n",
              "  <script>\n",
              "    async function quickchart(key) {\n",
              "      const quickchartButtonEl =\n",
              "        document.querySelector('#' + key + ' button');\n",
              "      quickchartButtonEl.disabled = true;  // To prevent multiple clicks.\n",
              "      quickchartButtonEl.classList.add('colab-df-spinner');\n",
              "      try {\n",
              "        const charts = await google.colab.kernel.invokeFunction(\n",
              "            'suggestCharts', [key], {});\n",
              "      } catch (error) {\n",
              "        console.error('Error during call to suggestCharts:', error);\n",
              "      }\n",
              "      quickchartButtonEl.classList.remove('colab-df-spinner');\n",
              "      quickchartButtonEl.classList.add('colab-df-quickchart-complete');\n",
              "    }\n",
              "    (() => {\n",
              "      let quickchartButtonEl =\n",
              "        document.querySelector('#df-6cee651a-e896-4464-8da5-bedcf1e8565c button');\n",
              "      quickchartButtonEl.style.display =\n",
              "        google.colab.kernel.accessAllowed ? 'block' : 'none';\n",
              "    })();\n",
              "  </script>\n",
              "</div>\n",
              "    </div>\n",
              "  </div>\n"
            ],
            "application/vnd.google.colaboratory.intrinsic+json": {
              "type": "dataframe",
              "variable_name": "df"
            }
          },
          "metadata": {},
          "execution_count": 111
        }
      ]
    },
    {
      "cell_type": "code",
      "source": [
        "print(df.shape)\n",
        "print(df.columns)"
      ],
      "metadata": {
        "colab": {
          "base_uri": "https://localhost:8080/"
        },
        "id": "sX8pY1c4H2UH",
        "outputId": "ec94eb16-12ff-4dbf-e68f-7d5ceaeb6b51"
      },
      "execution_count": null,
      "outputs": [
        {
          "output_type": "stream",
          "name": "stdout",
          "text": [
            "(663946, 48)\n",
            "Index(['user_id', 'id', 'uri', 'title', 'price', 'content', 'imgs', 'refresh',\n",
            "       'category', 'beds', 'livings', 'wc', 'area', 'type', 'street_width',\n",
            "       'age', 'last_update', 'street_direction', 'ketchen', 'ac', 'furnished',\n",
            "       'location.lat', 'location.lng', 'path', 'user.review', 'user.img',\n",
            "       'user.name', 'user.phone', 'user.iam_verified', 'user.rega_id',\n",
            "       'native.logo', 'native.title', 'native.image', 'native.description',\n",
            "       'native.external_url', 'rent_period', 'city', 'city_id', 'district',\n",
            "       'district_id', 'width', 'length', 'advertiser_type', 'create_time',\n",
            "       'has_extended_details', 'daily_rentable', 'createdAt', 'updatedAt'],\n",
            "      dtype='object')\n"
          ]
        }
      ]
    },
    {
      "cell_type": "markdown",
      "source": [
        "As we can see, there are many unnecessary, unused columns that only consume more space and make it hard to focus and think straight. We will not include thise in our data frame."
      ],
      "metadata": {
        "id": "yvTH0VbyseFu"
      }
    },
    {
      "cell_type": "markdown",
      "source": [
        "## organizing"
      ],
      "metadata": {
        "id": "hpEwXIG0-TiN"
      }
    },
    {
      "cell_type": "markdown",
      "source": [
        "We are getting rid ofunwanted columns in this frame. We are also changing some column names, replacing dots with underscores. We are limitng the data df2 to categroy 2 in this case (land, sell)"
      ],
      "metadata": {
        "id": "Qkuyb4r4m0ow"
      }
    },
    {
      "cell_type": "code",
      "source": [
        "# take relevant columns\n",
        "# problem: no such column as user.review\n",
        "query = 'SELECT user_id, id, price, category, area, street_width, [user.review] as user_review, [user.name] as user_name, city, city_id, district, district_id, width, length, advertiser_type, updatedAt FROM Listings WHERE category == 2 ORDER BY price'\n",
        "\n",
        "df2 = pd.read_sql(query, conn)\n",
        "df2.head()"
      ],
      "metadata": {
        "colab": {
          "base_uri": "https://localhost:8080/",
          "height": 434
        },
        "id": "F69mft67IPT8",
        "outputId": "72ff88cf-3ceb-4dd2-d779-26d074d7340a"
      },
      "execution_count": null,
      "outputs": [
        {
          "output_type": "execute_result",
          "data": {
            "text/plain": [
              "   user_id       id  price  category   area  street_width  user_review  \\\n",
              "0     5138  5480268    1.0         2    625           NaN         3.00   \n",
              "1     5138  5489283    1.0         2    906           NaN         3.00   \n",
              "2  3314828  5444502  225.0         2    690           NaN          NaN   \n",
              "3   125255  5483774  370.0         2  12648           NaN         4.55   \n",
              "4    27495  5485691  380.0         2    745           NaN         4.42   \n",
              "\n",
              "                                    user_name       city  city_id  \\\n",
              "0  مكتب متعب بن مرزوق بن عواد الضبيب للعقارات     الزلفي       22   \n",
              "1  مكتب متعب بن مرزوق بن عواد الضبيب للعقارات     الزلفي       22   \n",
              "2               محمد بن احمد بن موسى الزهراني    القنفذة       34   \n",
              "3                   مكتب ربوة الشمال للعقارات  المزاحمية       43   \n",
              "4                            ابو فهد للعقارات     الرياض       21   \n",
              "\n",
              "      district  district_id  width  length advertiser_type  \\\n",
              "0   حي المنتزة          754    NaN     NaN           agent   \n",
              "1    حي عريعرة          770    NaN     NaN           agent   \n",
              "2  حي الخالدية         3382    NaN     NaN            None   \n",
              "3    حي الغطغط          886    NaN     NaN           agent   \n",
              "4     حي الشرق          476    NaN     NaN           owner   \n",
              "\n",
              "                        updatedAt  \n",
              "0  2023-08-01 22:30:26.700 +00:00  \n",
              "1  2023-08-04 18:02:21.975 +00:00  \n",
              "2  2023-07-07 22:49:33.266 +00:00  \n",
              "3  2023-08-01 22:31:54.813 +00:00  \n",
              "4  2023-08-01 22:29:48.738 +00:00  "
            ],
            "text/html": [
              "\n",
              "  <div id=\"df-4a35e274-b76f-427f-9d3b-30a7801f8ba9\" class=\"colab-df-container\">\n",
              "    <div>\n",
              "<style scoped>\n",
              "    .dataframe tbody tr th:only-of-type {\n",
              "        vertical-align: middle;\n",
              "    }\n",
              "\n",
              "    .dataframe tbody tr th {\n",
              "        vertical-align: top;\n",
              "    }\n",
              "\n",
              "    .dataframe thead th {\n",
              "        text-align: right;\n",
              "    }\n",
              "</style>\n",
              "<table border=\"1\" class=\"dataframe\">\n",
              "  <thead>\n",
              "    <tr style=\"text-align: right;\">\n",
              "      <th></th>\n",
              "      <th>user_id</th>\n",
              "      <th>id</th>\n",
              "      <th>price</th>\n",
              "      <th>category</th>\n",
              "      <th>area</th>\n",
              "      <th>street_width</th>\n",
              "      <th>user_review</th>\n",
              "      <th>user_name</th>\n",
              "      <th>city</th>\n",
              "      <th>city_id</th>\n",
              "      <th>district</th>\n",
              "      <th>district_id</th>\n",
              "      <th>width</th>\n",
              "      <th>length</th>\n",
              "      <th>advertiser_type</th>\n",
              "      <th>updatedAt</th>\n",
              "    </tr>\n",
              "  </thead>\n",
              "  <tbody>\n",
              "    <tr>\n",
              "      <th>0</th>\n",
              "      <td>5138</td>\n",
              "      <td>5480268</td>\n",
              "      <td>1.0</td>\n",
              "      <td>2</td>\n",
              "      <td>625</td>\n",
              "      <td>NaN</td>\n",
              "      <td>3.00</td>\n",
              "      <td>مكتب متعب بن مرزوق بن عواد الضبيب للعقارات</td>\n",
              "      <td>الزلفي</td>\n",
              "      <td>22</td>\n",
              "      <td>حي المنتزة</td>\n",
              "      <td>754</td>\n",
              "      <td>NaN</td>\n",
              "      <td>NaN</td>\n",
              "      <td>agent</td>\n",
              "      <td>2023-08-01 22:30:26.700 +00:00</td>\n",
              "    </tr>\n",
              "    <tr>\n",
              "      <th>1</th>\n",
              "      <td>5138</td>\n",
              "      <td>5489283</td>\n",
              "      <td>1.0</td>\n",
              "      <td>2</td>\n",
              "      <td>906</td>\n",
              "      <td>NaN</td>\n",
              "      <td>3.00</td>\n",
              "      <td>مكتب متعب بن مرزوق بن عواد الضبيب للعقارات</td>\n",
              "      <td>الزلفي</td>\n",
              "      <td>22</td>\n",
              "      <td>حي عريعرة</td>\n",
              "      <td>770</td>\n",
              "      <td>NaN</td>\n",
              "      <td>NaN</td>\n",
              "      <td>agent</td>\n",
              "      <td>2023-08-04 18:02:21.975 +00:00</td>\n",
              "    </tr>\n",
              "    <tr>\n",
              "      <th>2</th>\n",
              "      <td>3314828</td>\n",
              "      <td>5444502</td>\n",
              "      <td>225.0</td>\n",
              "      <td>2</td>\n",
              "      <td>690</td>\n",
              "      <td>NaN</td>\n",
              "      <td>NaN</td>\n",
              "      <td>محمد بن احمد بن موسى الزهراني</td>\n",
              "      <td>القنفذة</td>\n",
              "      <td>34</td>\n",
              "      <td>حي الخالدية</td>\n",
              "      <td>3382</td>\n",
              "      <td>NaN</td>\n",
              "      <td>NaN</td>\n",
              "      <td>None</td>\n",
              "      <td>2023-07-07 22:49:33.266 +00:00</td>\n",
              "    </tr>\n",
              "    <tr>\n",
              "      <th>3</th>\n",
              "      <td>125255</td>\n",
              "      <td>5483774</td>\n",
              "      <td>370.0</td>\n",
              "      <td>2</td>\n",
              "      <td>12648</td>\n",
              "      <td>NaN</td>\n",
              "      <td>4.55</td>\n",
              "      <td>مكتب ربوة الشمال للعقارات</td>\n",
              "      <td>المزاحمية</td>\n",
              "      <td>43</td>\n",
              "      <td>حي الغطغط</td>\n",
              "      <td>886</td>\n",
              "      <td>NaN</td>\n",
              "      <td>NaN</td>\n",
              "      <td>agent</td>\n",
              "      <td>2023-08-01 22:31:54.813 +00:00</td>\n",
              "    </tr>\n",
              "    <tr>\n",
              "      <th>4</th>\n",
              "      <td>27495</td>\n",
              "      <td>5485691</td>\n",
              "      <td>380.0</td>\n",
              "      <td>2</td>\n",
              "      <td>745</td>\n",
              "      <td>NaN</td>\n",
              "      <td>4.42</td>\n",
              "      <td>ابو فهد للعقارات</td>\n",
              "      <td>الرياض</td>\n",
              "      <td>21</td>\n",
              "      <td>حي الشرق</td>\n",
              "      <td>476</td>\n",
              "      <td>NaN</td>\n",
              "      <td>NaN</td>\n",
              "      <td>owner</td>\n",
              "      <td>2023-08-01 22:29:48.738 +00:00</td>\n",
              "    </tr>\n",
              "  </tbody>\n",
              "</table>\n",
              "</div>\n",
              "    <div class=\"colab-df-buttons\">\n",
              "\n",
              "  <div class=\"colab-df-container\">\n",
              "    <button class=\"colab-df-convert\" onclick=\"convertToInteractive('df-4a35e274-b76f-427f-9d3b-30a7801f8ba9')\"\n",
              "            title=\"Convert this dataframe to an interactive table.\"\n",
              "            style=\"display:none;\">\n",
              "\n",
              "  <svg xmlns=\"http://www.w3.org/2000/svg\" height=\"24px\" viewBox=\"0 -960 960 960\">\n",
              "    <path d=\"M120-120v-720h720v720H120Zm60-500h600v-160H180v160Zm220 220h160v-160H400v160Zm0 220h160v-160H400v160ZM180-400h160v-160H180v160Zm440 0h160v-160H620v160ZM180-180h160v-160H180v160Zm440 0h160v-160H620v160Z\"/>\n",
              "  </svg>\n",
              "    </button>\n",
              "\n",
              "  <style>\n",
              "    .colab-df-container {\n",
              "      display:flex;\n",
              "      gap: 12px;\n",
              "    }\n",
              "\n",
              "    .colab-df-convert {\n",
              "      background-color: #E8F0FE;\n",
              "      border: none;\n",
              "      border-radius: 50%;\n",
              "      cursor: pointer;\n",
              "      display: none;\n",
              "      fill: #1967D2;\n",
              "      height: 32px;\n",
              "      padding: 0 0 0 0;\n",
              "      width: 32px;\n",
              "    }\n",
              "\n",
              "    .colab-df-convert:hover {\n",
              "      background-color: #E2EBFA;\n",
              "      box-shadow: 0px 1px 2px rgba(60, 64, 67, 0.3), 0px 1px 3px 1px rgba(60, 64, 67, 0.15);\n",
              "      fill: #174EA6;\n",
              "    }\n",
              "\n",
              "    .colab-df-buttons div {\n",
              "      margin-bottom: 4px;\n",
              "    }\n",
              "\n",
              "    [theme=dark] .colab-df-convert {\n",
              "      background-color: #3B4455;\n",
              "      fill: #D2E3FC;\n",
              "    }\n",
              "\n",
              "    [theme=dark] .colab-df-convert:hover {\n",
              "      background-color: #434B5C;\n",
              "      box-shadow: 0px 1px 3px 1px rgba(0, 0, 0, 0.15);\n",
              "      filter: drop-shadow(0px 1px 2px rgba(0, 0, 0, 0.3));\n",
              "      fill: #FFFFFF;\n",
              "    }\n",
              "  </style>\n",
              "\n",
              "    <script>\n",
              "      const buttonEl =\n",
              "        document.querySelector('#df-4a35e274-b76f-427f-9d3b-30a7801f8ba9 button.colab-df-convert');\n",
              "      buttonEl.style.display =\n",
              "        google.colab.kernel.accessAllowed ? 'block' : 'none';\n",
              "\n",
              "      async function convertToInteractive(key) {\n",
              "        const element = document.querySelector('#df-4a35e274-b76f-427f-9d3b-30a7801f8ba9');\n",
              "        const dataTable =\n",
              "          await google.colab.kernel.invokeFunction('convertToInteractive',\n",
              "                                                    [key], {});\n",
              "        if (!dataTable) return;\n",
              "\n",
              "        const docLinkHtml = 'Like what you see? Visit the ' +\n",
              "          '<a target=\"_blank\" href=https://colab.research.google.com/notebooks/data_table.ipynb>data table notebook</a>'\n",
              "          + ' to learn more about interactive tables.';\n",
              "        element.innerHTML = '';\n",
              "        dataTable['output_type'] = 'display_data';\n",
              "        await google.colab.output.renderOutput(dataTable, element);\n",
              "        const docLink = document.createElement('div');\n",
              "        docLink.innerHTML = docLinkHtml;\n",
              "        element.appendChild(docLink);\n",
              "      }\n",
              "    </script>\n",
              "  </div>\n",
              "\n",
              "\n",
              "<div id=\"df-a48b8a22-dfbc-4512-bd92-5682d758bc50\">\n",
              "  <button class=\"colab-df-quickchart\" onclick=\"quickchart('df-a48b8a22-dfbc-4512-bd92-5682d758bc50')\"\n",
              "            title=\"Suggest charts\"\n",
              "            style=\"display:none;\">\n",
              "\n",
              "<svg xmlns=\"http://www.w3.org/2000/svg\" height=\"24px\"viewBox=\"0 0 24 24\"\n",
              "     width=\"24px\">\n",
              "    <g>\n",
              "        <path d=\"M19 3H5c-1.1 0-2 .9-2 2v14c0 1.1.9 2 2 2h14c1.1 0 2-.9 2-2V5c0-1.1-.9-2-2-2zM9 17H7v-7h2v7zm4 0h-2V7h2v10zm4 0h-2v-4h2v4z\"/>\n",
              "    </g>\n",
              "</svg>\n",
              "  </button>\n",
              "\n",
              "<style>\n",
              "  .colab-df-quickchart {\n",
              "      --bg-color: #E8F0FE;\n",
              "      --fill-color: #1967D2;\n",
              "      --hover-bg-color: #E2EBFA;\n",
              "      --hover-fill-color: #174EA6;\n",
              "      --disabled-fill-color: #AAA;\n",
              "      --disabled-bg-color: #DDD;\n",
              "  }\n",
              "\n",
              "  [theme=dark] .colab-df-quickchart {\n",
              "      --bg-color: #3B4455;\n",
              "      --fill-color: #D2E3FC;\n",
              "      --hover-bg-color: #434B5C;\n",
              "      --hover-fill-color: #FFFFFF;\n",
              "      --disabled-bg-color: #3B4455;\n",
              "      --disabled-fill-color: #666;\n",
              "  }\n",
              "\n",
              "  .colab-df-quickchart {\n",
              "    background-color: var(--bg-color);\n",
              "    border: none;\n",
              "    border-radius: 50%;\n",
              "    cursor: pointer;\n",
              "    display: none;\n",
              "    fill: var(--fill-color);\n",
              "    height: 32px;\n",
              "    padding: 0;\n",
              "    width: 32px;\n",
              "  }\n",
              "\n",
              "  .colab-df-quickchart:hover {\n",
              "    background-color: var(--hover-bg-color);\n",
              "    box-shadow: 0 1px 2px rgba(60, 64, 67, 0.3), 0 1px 3px 1px rgba(60, 64, 67, 0.15);\n",
              "    fill: var(--button-hover-fill-color);\n",
              "  }\n",
              "\n",
              "  .colab-df-quickchart-complete:disabled,\n",
              "  .colab-df-quickchart-complete:disabled:hover {\n",
              "    background-color: var(--disabled-bg-color);\n",
              "    fill: var(--disabled-fill-color);\n",
              "    box-shadow: none;\n",
              "  }\n",
              "\n",
              "  .colab-df-spinner {\n",
              "    border: 2px solid var(--fill-color);\n",
              "    border-color: transparent;\n",
              "    border-bottom-color: var(--fill-color);\n",
              "    animation:\n",
              "      spin 1s steps(1) infinite;\n",
              "  }\n",
              "\n",
              "  @keyframes spin {\n",
              "    0% {\n",
              "      border-color: transparent;\n",
              "      border-bottom-color: var(--fill-color);\n",
              "      border-left-color: var(--fill-color);\n",
              "    }\n",
              "    20% {\n",
              "      border-color: transparent;\n",
              "      border-left-color: var(--fill-color);\n",
              "      border-top-color: var(--fill-color);\n",
              "    }\n",
              "    30% {\n",
              "      border-color: transparent;\n",
              "      border-left-color: var(--fill-color);\n",
              "      border-top-color: var(--fill-color);\n",
              "      border-right-color: var(--fill-color);\n",
              "    }\n",
              "    40% {\n",
              "      border-color: transparent;\n",
              "      border-right-color: var(--fill-color);\n",
              "      border-top-color: var(--fill-color);\n",
              "    }\n",
              "    60% {\n",
              "      border-color: transparent;\n",
              "      border-right-color: var(--fill-color);\n",
              "    }\n",
              "    80% {\n",
              "      border-color: transparent;\n",
              "      border-right-color: var(--fill-color);\n",
              "      border-bottom-color: var(--fill-color);\n",
              "    }\n",
              "    90% {\n",
              "      border-color: transparent;\n",
              "      border-bottom-color: var(--fill-color);\n",
              "    }\n",
              "  }\n",
              "</style>\n",
              "\n",
              "  <script>\n",
              "    async function quickchart(key) {\n",
              "      const quickchartButtonEl =\n",
              "        document.querySelector('#' + key + ' button');\n",
              "      quickchartButtonEl.disabled = true;  // To prevent multiple clicks.\n",
              "      quickchartButtonEl.classList.add('colab-df-spinner');\n",
              "      try {\n",
              "        const charts = await google.colab.kernel.invokeFunction(\n",
              "            'suggestCharts', [key], {});\n",
              "      } catch (error) {\n",
              "        console.error('Error during call to suggestCharts:', error);\n",
              "      }\n",
              "      quickchartButtonEl.classList.remove('colab-df-spinner');\n",
              "      quickchartButtonEl.classList.add('colab-df-quickchart-complete');\n",
              "    }\n",
              "    (() => {\n",
              "      let quickchartButtonEl =\n",
              "        document.querySelector('#df-a48b8a22-dfbc-4512-bd92-5682d758bc50 button');\n",
              "      quickchartButtonEl.style.display =\n",
              "        google.colab.kernel.accessAllowed ? 'block' : 'none';\n",
              "    })();\n",
              "  </script>\n",
              "</div>\n",
              "    </div>\n",
              "  </div>\n"
            ],
            "application/vnd.google.colaboratory.intrinsic+json": {
              "type": "dataframe",
              "variable_name": "df2"
            }
          },
          "metadata": {},
          "execution_count": 62
        }
      ]
    },
    {
      "cell_type": "code",
      "source": [
        "print(df2.dtypes)"
      ],
      "metadata": {
        "colab": {
          "base_uri": "https://localhost:8080/"
        },
        "id": "UVdcH-ISdr3Y",
        "outputId": "1edc7b59-9480-4c84-caab-e0929eaba09d"
      },
      "execution_count": null,
      "outputs": [
        {
          "output_type": "stream",
          "name": "stdout",
          "text": [
            "user_id              int64\n",
            "id                   int64\n",
            "price              float64\n",
            "category             int64\n",
            "area                 int64\n",
            "street_width       float64\n",
            "user_review        float64\n",
            "user_name           object\n",
            "city                object\n",
            "city_id              int64\n",
            "district            object\n",
            "district_id          int64\n",
            "width              float64\n",
            "length             float64\n",
            "advertiser_type     object\n",
            "updatedAt           object\n",
            "dtype: object\n"
          ]
        }
      ]
    },
    {
      "cell_type": "markdown",
      "source": [
        "These are the new columns that we should use with their modified names. It's important to note that numericals such as price, street_width, and user_review are float numbers and not integers since they represint decimal values."
      ],
      "metadata": {
        "id": "_ez8NZOQsVJT"
      }
    },
    {
      "cell_type": "markdown",
      "source": [
        "# Exploratory Data Analysis"
      ],
      "metadata": {
        "id": "7chiFgof9k6g"
      }
    },
    {
      "cell_type": "markdown",
      "source": [
        "We are interested to invest in land estate in a particular city in Saudi Arabia with particular specifications (mainly, area). We will make our choices based on statistical methods."
      ],
      "metadata": {
        "id": "Z0aYhpb7CSdJ"
      }
    },
    {
      "cell_type": "markdown",
      "source": [
        "To explore the data we now have using several testing methods, we want to think of helpful ideas to gather insights of the correlations between columns in the data.\n",
        "\n",
        "* We consider investing in a particular category in a particular city with specific area range and, if applicable, specifications.\n",
        "\n",
        "* We consider the general correlation between area and price.\n",
        "\n",
        "* We consider the correlation between street width and price with ~fixed area.\n",
        "\n",
        "* We consider the relationship between user_review and appropriateness of price.\n",
        "\n",
        "* We consider advertiser type (owner vs agent) effect.\n",
        "\n",
        "* We consider making a table of price-per-meter-squared for each district for (one / every) city.\n",
        "\n",
        "* We consider analyzing price difference between land and building with similar land specifications"
      ],
      "metadata": {
        "id": "Z0E2OEOZ9K0k"
      }
    },
    {
      "cell_type": "markdown",
      "source": [
        "## conclusion 1: Outliers of Area and Price"
      ],
      "metadata": {
        "id": "6vOt90Me9_Ld"
      }
    },
    {
      "cell_type": "markdown",
      "source": [
        "A good way to start exploring is to clear data from outliers. Those might cause some unrealistic effect on results as they show rare and special cases that we may not be interested in studying. For example, lands of the royal family, lands in private owned regions, or ones used for industrial or military purposes and such.\n",
        "\n",
        "We first start by removing row duplicates, and then we set a larger unit of 1000 for prices to minimize the values of that column."
      ],
      "metadata": {
        "id": "f8yEDyikuL6-"
      }
    },
    {
      "cell_type": "code",
      "source": [
        "# We remove exact row duplicates.\n",
        "df2 = df2.drop_duplicates()\n",
        "\n",
        "# We are interested in the price in thousands of riyals rather than riyals since every land is expected to be sold at more than 1 thousand.\n",
        "df2['price'] /= 1000"
      ],
      "metadata": {
        "id": "XtfIceB8noyC"
      },
      "execution_count": null,
      "outputs": []
    },
    {
      "cell_type": "markdown",
      "source": [
        "By looking at and observing the data, we can notice th existence of significant outlirs in the columns of price and area. Note that the minimum area is 1 m^2 and price is 1 riyal (1/1000 * 1000), and the difference between the 95th percentile and 100th percentile is significantly high. Based on the size of our current dataframe (175k rows), we decide that the top 5% and bottom 5% can be safely dropped to eliminate outliers.\n",
        "\n",
        "We also want to consider rows surrounded by at least one street whose width, which should be at least 5 m, is provided."
      ],
      "metadata": {
        "id": "ZYLEKmLlvu42"
      }
    },
    {
      "cell_type": "code",
      "source": [
        "# Area reporting:\n",
        "print(\"Area Summary:\")\n",
        "# subgrouping rows by their percentile ranks in the area column\n",
        "temp = df2['area'].describe([0.5,0.05,0.95])\n",
        "print(temp)\n",
        "area_low = temp['5%']\n",
        "area_high = temp['95%']\n",
        "# Removing lowest 5% of area from the data\n",
        "df2 = df2[area_low <= df2['area']]\n",
        "# Removing highest 5% of area from the data\n",
        "df2 = df2[df2['area'] <= area_high]\n",
        "print(df2.shape)\n",
        "\n",
        "# Price reporting\n",
        "print(\"Price Summary:\")\n",
        "# subgrouping rows by their percentile ranks in the price column\n",
        "temp = df2['price'].describe([0.5,0.05,0.95])\n",
        "print(temp)\n",
        "price_low = temp['5%']\n",
        "price_high = temp['95%']\n",
        "# Removing lowest 5% of price from the data\n",
        "df2 = df2[price_low <= df2['price']]\n",
        "# Removing highest 5% of price from the data\n",
        "df2 = df2[df2['price'] <= price_high]\n",
        "print(df2.shape)\n",
        "\n",
        "# Removing rows where street width is lower than 5 meters\n",
        "df2 = df2[df2['street_width'] >= 5]\n",
        "print(df2.shape)"
      ],
      "metadata": {
        "colab": {
          "base_uri": "https://localhost:8080/"
        },
        "id": "or6wD832l8v0",
        "outputId": "f772cdec-5d49-4f78-d632-2d2dae6311fc"
      },
      "execution_count": null,
      "outputs": [
        {
          "output_type": "stream",
          "name": "stdout",
          "text": [
            "Area Summary:\n",
            "count    1.946110e+05\n",
            "mean     1.076245e+04\n",
            "std      2.954225e+05\n",
            "min      1.000000e+00\n",
            "5%       3.300000e+02\n",
            "50%      7.330000e+02\n",
            "95%      7.200000e+03\n",
            "max      8.600000e+07\n",
            "Name: area, dtype: float64\n",
            "(175336, 16)\n",
            "Price Summary:\n",
            "count    1.753360e+05\n",
            "mean     3.889460e+03\n",
            "std      2.301192e+04\n",
            "min      1.000000e-03\n",
            "5%       2.000000e+02\n",
            "50%      1.650000e+03\n",
            "95%      1.350000e+04\n",
            "max      4.500000e+06\n",
            "Name: price, dtype: float64\n",
            "(157882, 16)\n",
            "(153879, 16)\n"
          ]
        }
      ]
    },
    {
      "cell_type": "markdown",
      "source": [
        "Reported results show the following:\n",
        "1. Very wide range in Area: from 1 square to 86,000,000 square\n",
        "After filtering the 5% and 95% outliers, it's now rnaging from 330 to 7,200.\n",
        "2. Very wide range in Price: from 0.000001 to 4,500.\n",
        "After filtering the 5% and 95% outliers, it's now rnaging from 0.2 to 13.5.\n",
        "3. Removing rows with streets tighter than 5 reuces the number of residentials an additional 4000."
      ],
      "metadata": {
        "id": "YdY5gy0H3NWY"
      }
    },
    {
      "cell_type": "markdown",
      "source": [
        "We should viusulaize the correlation between area and price in different regions now like Jeddah and Riyadh. We are going to use bargraphs as they are easy to read and have visible trends."
      ],
      "metadata": {
        "id": "WWcVKQtyxO3r"
      }
    },
    {
      "cell_type": "code",
      "source": [
        "fig, axs = plt.subplots(3, 1, figsize=(10, 10))\n",
        "\n",
        "sns.histplot(df2['price'], bins=30, color='salmon', ax=axs[0], kde=True)\n",
        "axs[0].set_title('Land Prices Distribution in Saudi Arabia')\n",
        "axs[0].set_xlabel('Price')\n",
        "axs[0].set_ylabel('Frequency')\n",
        "\n",
        "\n",
        "sns.histplot(df2[df2['city'] == 'جدة']['price'], bins=30, color='black', ax=axs[1], kde=True)\n",
        "axs[1].set_title('Land Prices Distribution in Jeddah')\n",
        "axs[1].set_xlabel('Price')\n",
        "axs[1].set_ylabel('Frequency')\n",
        "\n",
        "sns.histplot(df2[df2['city'] == 'الرياض']['price'], bins=30, color='skyblue', ax=axs[2], kde=True)\n",
        "axs[2].set_title('Land Prices Distribution in Riyadh')\n",
        "axs[2].set_xlabel('Price')\n",
        "axs[2].set_ylabel('Frequency')\n",
        "\n",
        "plt.show()"
      ],
      "metadata": {
        "colab": {
          "base_uri": "https://localhost:8080/",
          "height": 881
        },
        "id": "xG6iDuNH-vEu",
        "outputId": "61e89ce6-d0aa-4f2d-c41d-724da715b710"
      },
      "execution_count": null,
      "outputs": [
        {
          "output_type": "display_data",
          "data": {
            "text/plain": [
              "<Figure size 1000x1000 with 3 Axes>"
            ],
            "image/png": "[encoded data removed]"
          },
          "metadata": {}
        }
      ]
    },
    {
      "cell_type": "markdown",
      "source": [
        "## conclusion 2: Cities and Average Price (T-test)"
      ],
      "metadata": {
        "id": "Y8chQNsd-jW7"
      }
    },
    {
      "cell_type": "markdown",
      "source": [
        "Here we want to know what's the best city to invest in. That would obviously be difficult to find; yet, we can use the data we have to approach the correct answer.\n",
        "\n",
        "We are going to use the average of prices as an indicatory of the value, importance, and economic importance of the sales and rentiles in a certain city. That can indirectly serve as a way to show which cities are safer to invest in."
      ],
      "metadata": {
        "id": "i8VCWi8t-l3q"
      }
    },
    {
      "cell_type": "code",
      "source": [
        "query = 'SELECT city, COUNT(id) as listings, AVG(price) FROM Listings GROUP BY city ORDER BY listings DESC'\n",
        "\n",
        "pd.read_sql(query, conn).head(2)"
      ],
      "metadata": {
        "colab": {
          "base_uri": "https://localhost:8080/",
          "height": 112
        },
        "id": "3V1b1idfEo85",
        "outputId": "538a59b4-f48f-4666-d78e-201964c182f7"
      },
      "execution_count": null,
      "outputs": [
        {
          "output_type": "execute_result",
          "data": {
            "text/plain": [
              "     city  listings    AVG(price)\n",
              "0  الرياض    353618  5.413916e+06\n",
              "1     جدة    101712  2.648528e+06"
            ],
            "text/html": [
              "\n",
              "  <div id=\"df-45dba71c-818d-4a55-879b-1d1daffcd6d0\" class=\"colab-df-container\">\n",
              "    <div>\n",
              "<style scoped>\n",
              "    .dataframe tbody tr th:only-of-type {\n",
              "        vertical-align: middle;\n",
              "    }\n",
              "\n",
              "    .dataframe tbody tr th {\n",
              "        vertical-align: top;\n",
              "    }\n",
              "\n",
              "    .dataframe thead th {\n",
              "        text-align: right;\n",
              "    }\n",
              "</style>\n",
              "<table border=\"1\" class=\"dataframe\">\n",
              "  <thead>\n",
              "    <tr style=\"text-align: right;\">\n",
              "      <th></th>\n",
              "      <th>city</th>\n",
              "      <th>listings</th>\n",
              "      <th>AVG(price)</th>\n",
              "    </tr>\n",
              "  </thead>\n",
              "  <tbody>\n",
              "    <tr>\n",
              "      <th>0</th>\n",
              "      <td>الرياض</td>\n",
              "      <td>353618</td>\n",
              "      <td>5.413916e+06</td>\n",
              "    </tr>\n",
              "    <tr>\n",
              "      <th>1</th>\n",
              "      <td>جدة</td>\n",
              "      <td>101712</td>\n",
              "      <td>2.648528e+06</td>\n",
              "    </tr>\n",
              "  </tbody>\n",
              "</table>\n",
              "</div>\n",
              "    <div class=\"colab-df-buttons\">\n",
              "\n",
              "  <div class=\"colab-df-container\">\n",
              "    <button class=\"colab-df-convert\" onclick=\"convertToInteractive('df-45dba71c-818d-4a55-879b-1d1daffcd6d0')\"\n",
              "            title=\"Convert this dataframe to an interactive table.\"\n",
              "            style=\"display:none;\">\n",
              "\n",
              "  <svg xmlns=\"http://www.w3.org/2000/svg\" height=\"24px\" viewBox=\"0 -960 960 960\">\n",
              "    <path d=\"M120-120v-720h720v720H120Zm60-500h600v-160H180v160Zm220 220h160v-160H400v160Zm0 220h160v-160H400v160ZM180-400h160v-160H180v160Zm440 0h160v-160H620v160ZM180-180h160v-160H180v160Zm440 0h160v-160H620v160Z\"/>\n",
              "  </svg>\n",
              "    </button>\n",
              "\n",
              "  <style>\n",
              "    .colab-df-container {\n",
              "      display:flex;\n",
              "      gap: 12px;\n",
              "    }\n",
              "\n",
              "    .colab-df-convert {\n",
              "      background-color: #E8F0FE;\n",
              "      border: none;\n",
              "      border-radius: 50%;\n",
              "      cursor: pointer;\n",
              "      display: none;\n",
              "      fill: #1967D2;\n",
              "      height: 32px;\n",
              "      padding: 0 0 0 0;\n",
              "      width: 32px;\n",
              "    }\n",
              "\n",
              "    .colab-df-convert:hover {\n",
              "      background-color: #E2EBFA;\n",
              "      box-shadow: 0px 1px 2px rgba(60, 64, 67, 0.3), 0px 1px 3px 1px rgba(60, 64, 67, 0.15);\n",
              "      fill: #174EA6;\n",
              "    }\n",
              "\n",
              "    .colab-df-buttons div {\n",
              "      margin-bottom: 4px;\n",
              "    }\n",
              "\n",
              "    [theme=dark] .colab-df-convert {\n",
              "      background-color: #3B4455;\n",
              "      fill: #D2E3FC;\n",
              "    }\n",
              "\n",
              "    [theme=dark] .colab-df-convert:hover {\n",
              "      background-color: #434B5C;\n",
              "      box-shadow: 0px 1px 3px 1px rgba(0, 0, 0, 0.15);\n",
              "      filter: drop-shadow(0px 1px 2px rgba(0, 0, 0, 0.3));\n",
              "      fill: #FFFFFF;\n",
              "    }\n",
              "  </style>\n",
              "\n",
              "    <script>\n",
              "      const buttonEl =\n",
              "        document.querySelector('#df-45dba71c-818d-4a55-879b-1d1daffcd6d0 button.colab-df-convert');\n",
              "      buttonEl.style.display =\n",
              "        google.colab.kernel.accessAllowed ? 'block' : 'none';\n",
              "\n",
              "      async function convertToInteractive(key) {\n",
              "        const element = document.querySelector('#df-45dba71c-818d-4a55-879b-1d1daffcd6d0');\n",
              "        const dataTable =\n",
              "          await google.colab.kernel.invokeFunction('convertToInteractive',\n",
              "                                                    [key], {});\n",
              "        if (!dataTable) return;\n",
              "\n",
              "        const docLinkHtml = 'Like what you see? Visit the ' +\n",
              "          '<a target=\"_blank\" href=https://colab.research.google.com/notebooks/data_table.ipynb>data table notebook</a>'\n",
              "          + ' to learn more about interactive tables.';\n",
              "        element.innerHTML = '';\n",
              "        dataTable['output_type'] = 'display_data';\n",
              "        await google.colab.output.renderOutput(dataTable, element);\n",
              "        const docLink = document.createElement('div');\n",
              "        docLink.innerHTML = docLinkHtml;\n",
              "        element.appendChild(docLink);\n",
              "      }\n",
              "    </script>\n",
              "  </div>\n",
              "\n",
              "\n",
              "<div id=\"df-c82ce06b-4cd4-4fc9-a960-41ab5bdaf682\">\n",
              "  <button class=\"colab-df-quickchart\" onclick=\"quickchart('df-c82ce06b-4cd4-4fc9-a960-41ab5bdaf682')\"\n",
              "            title=\"Suggest charts\"\n",
              "            style=\"display:none;\">\n",
              "\n",
              "<svg xmlns=\"http://www.w3.org/2000/svg\" height=\"24px\"viewBox=\"0 0 24 24\"\n",
              "     width=\"24px\">\n",
              "    <g>\n",
              "        <path d=\"M19 3H5c-1.1 0-2 .9-2 2v14c0 1.1.9 2 2 2h14c1.1 0 2-.9 2-2V5c0-1.1-.9-2-2-2zM9 17H7v-7h2v7zm4 0h-2V7h2v10zm4 0h-2v-4h2v4z\"/>\n",
              "    </g>\n",
              "</svg>\n",
              "  </button>\n",
              "\n",
              "<style>\n",
              "  .colab-df-quickchart {\n",
              "      --bg-color: #E8F0FE;\n",
              "      --fill-color: #1967D2;\n",
              "      --hover-bg-color: #E2EBFA;\n",
              "      --hover-fill-color: #174EA6;\n",
              "      --disabled-fill-color: #AAA;\n",
              "      --disabled-bg-color: #DDD;\n",
              "  }\n",
              "\n",
              "  [theme=dark] .colab-df-quickchart {\n",
              "      --bg-color: #3B4455;\n",
              "      --fill-color: #D2E3FC;\n",
              "      --hover-bg-color: #434B5C;\n",
              "      --hover-fill-color: #FFFFFF;\n",
              "      --disabled-bg-color: #3B4455;\n",
              "      --disabled-fill-color: #666;\n",
              "  }\n",
              "\n",
              "  .colab-df-quickchart {\n",
              "    background-color: var(--bg-color);\n",
              "    border: none;\n",
              "    border-radius: 50%;\n",
              "    cursor: pointer;\n",
              "    display: none;\n",
              "    fill: var(--fill-color);\n",
              "    height: 32px;\n",
              "    padding: 0;\n",
              "    width: 32px;\n",
              "  }\n",
              "\n",
              "  .colab-df-quickchart:hover {\n",
              "    background-color: var(--hover-bg-color);\n",
              "    box-shadow: 0 1px 2px rgba(60, 64, 67, 0.3), 0 1px 3px 1px rgba(60, 64, 67, 0.15);\n",
              "    fill: var(--button-hover-fill-color);\n",
              "  }\n",
              "\n",
              "  .colab-df-quickchart-complete:disabled,\n",
              "  .colab-df-quickchart-complete:disabled:hover {\n",
              "    background-color: var(--disabled-bg-color);\n",
              "    fill: var(--disabled-fill-color);\n",
              "    box-shadow: none;\n",
              "  }\n",
              "\n",
              "  .colab-df-spinner {\n",
              "    border: 2px solid var(--fill-color);\n",
              "    border-color: transparent;\n",
              "    border-bottom-color: var(--fill-color);\n",
              "    animation:\n",
              "      spin 1s steps(1) infinite;\n",
              "  }\n",
              "\n",
              "  @keyframes spin {\n",
              "    0% {\n",
              "      border-color: transparent;\n",
              "      border-bottom-color: var(--fill-color);\n",
              "      border-left-color: var(--fill-color);\n",
              "    }\n",
              "    20% {\n",
              "      border-color: transparent;\n",
              "      border-left-color: var(--fill-color);\n",
              "      border-top-color: var(--fill-color);\n",
              "    }\n",
              "    30% {\n",
              "      border-color: transparent;\n",
              "      border-left-color: var(--fill-color);\n",
              "      border-top-color: var(--fill-color);\n",
              "      border-right-color: var(--fill-color);\n",
              "    }\n",
              "    40% {\n",
              "      border-color: transparent;\n",
              "      border-right-color: var(--fill-color);\n",
              "      border-top-color: var(--fill-color);\n",
              "    }\n",
              "    60% {\n",
              "      border-color: transparent;\n",
              "      border-right-color: var(--fill-color);\n",
              "    }\n",
              "    80% {\n",
              "      border-color: transparent;\n",
              "      border-right-color: var(--fill-color);\n",
              "      border-bottom-color: var(--fill-color);\n",
              "    }\n",
              "    90% {\n",
              "      border-color: transparent;\n",
              "      border-bottom-color: var(--fill-color);\n",
              "    }\n",
              "  }\n",
              "</style>\n",
              "\n",
              "  <script>\n",
              "    async function quickchart(key) {\n",
              "      const quickchartButtonEl =\n",
              "        document.querySelector('#' + key + ' button');\n",
              "      quickchartButtonEl.disabled = true;  // To prevent multiple clicks.\n",
              "      quickchartButtonEl.classList.add('colab-df-spinner');\n",
              "      try {\n",
              "        const charts = await google.colab.kernel.invokeFunction(\n",
              "            'suggestCharts', [key], {});\n",
              "      } catch (error) {\n",
              "        console.error('Error during call to suggestCharts:', error);\n",
              "      }\n",
              "      quickchartButtonEl.classList.remove('colab-df-spinner');\n",
              "      quickchartButtonEl.classList.add('colab-df-quickchart-complete');\n",
              "    }\n",
              "    (() => {\n",
              "      let quickchartButtonEl =\n",
              "        document.querySelector('#df-c82ce06b-4cd4-4fc9-a960-41ab5bdaf682 button');\n",
              "      quickchartButtonEl.style.display =\n",
              "        google.colab.kernel.accessAllowed ? 'block' : 'none';\n",
              "    })();\n",
              "  </script>\n",
              "</div>\n",
              "    </div>\n",
              "  </div>\n"
            ],
            "application/vnd.google.colaboratory.intrinsic+json": {
              "type": "dataframe",
              "summary": "{\n  \"name\": \"pd\",\n  \"rows\": 2,\n  \"fields\": [\n    {\n      \"column\": \"city\",\n      \"properties\": {\n        \"dtype\": \"string\",\n        \"num_unique_values\": 2,\n        \"samples\": [\n          \"\\u062c\\u062f\\u0629\",\n          \"\\u0627\\u0644\\u0631\\u064a\\u0627\\u0636\"\n        ],\n        \"semantic_type\": \"\",\n        \"description\": \"\"\n      }\n    },\n    {\n      \"column\": \"listings\",\n      \"properties\": {\n        \"dtype\": \"number\",\n        \"std\": 178124,\n        \"min\": 101712,\n        \"max\": 353618,\n        \"num_unique_values\": 2,\n        \"samples\": [\n          101712,\n          353618\n        ],\n        \"semantic_type\": \"\",\n        \"description\": \"\"\n      }\n    },\n    {\n      \"column\": \"AVG(price)\",\n      \"properties\": {\n        \"dtype\": \"number\",\n        \"std\": 1955424.4406869635,\n        \"min\": 2648527.744130486,\n        \"max\": 5413915.5083458135,\n        \"num_unique_values\": 2,\n        \"samples\": [\n          2648527.744130486,\n          5413915.5083458135\n        ],\n        \"semantic_type\": \"\",\n        \"description\": \"\"\n      }\n    }\n  ]\n}"
            }
          },
          "metadata": {},
          "execution_count": 66
        }
      ]
    },
    {
      "cell_type": "markdown",
      "source": [
        "We can see, as expected, that Riyadh and Jeddah are the highest two cities in terms of average of housing prices.\n",
        "\n",
        "We should find the ration of variance between te two cities to see which one is more whispered."
      ],
      "metadata": {
        "id": "tTCby1Bayqhr"
      }
    },
    {
      "cell_type": "code",
      "source": [
        "# 2-sample t-test on the land listing prices in two different cities\n",
        "\n",
        "# Assumption check\n",
        "riyadh = df2[df2['city'] == \"الرياض\"]['price']\n",
        "jeddah = df2[df2['city'] == \"جدة\"]['price']\n",
        "\n",
        "print(\"Riyadh to Jeddah variance ratio: \", riyadh.var() / jeddah.var())\n",
        "print(\"Ratio within 1:4 and 4:1. Riyadh has greater variance.\")\n"
      ],
      "metadata": {
        "colab": {
          "base_uri": "https://localhost:8080/"
        },
        "id": "4vIDvGCi6Gme",
        "outputId": "147ce92f-82cf-4b45-cc5c-f9206334fead"
      },
      "execution_count": null,
      "outputs": [
        {
          "output_type": "stream",
          "name": "stdout",
          "text": [
            "Riyadh to Jeddah variance ratio:  1.4451219808393054\n",
            "Ratio within 1:4 and 4:1. Riyadh has greater variance.\n"
          ]
        }
      ]
    },
    {
      "cell_type": "markdown",
      "source": [
        "Now moving to the T-test, we can set alpha to be a small number as 0.05; such small numbers are suitable for T-tests.\n",
        "Let's set the null hypothesis: Land prices differ in Riyadh from Jeddah"
      ],
      "metadata": {
        "id": "KsDf-tijzQLu"
      }
    },
    {
      "cell_type": "code",
      "source": [
        "# 2-sample t-test\n",
        "alpha = 0.05\n",
        "t, p = stats.ttest_ind(riyadh, jeddah)\n",
        "print(\"p-value: \", p)\n",
        "print(\"Statistically, do land prices in Riyadh differ from Jeddah?: \", p < alpha)"
      ],
      "metadata": {
        "colab": {
          "base_uri": "https://localhost:8080/"
        },
        "id": "FPS-r3cL93ck",
        "outputId": "370cf200-f1b2-4674-de96-1bc1ca4cba36"
      },
      "execution_count": null,
      "outputs": [
        {
          "output_type": "stream",
          "name": "stdout",
          "text": [
            "p-value:  0.0\n",
            "Statistically, do land prices in Riyadh differ from Jeddah?:  True\n"
          ]
        }
      ]
    },
    {
      "cell_type": "markdown",
      "source": [
        "Because the land prices of Riyadh statistically differ from Jeddah, we choose to invest in one city only. Because the variance of land prices in Riyadh is greater than in Jeddah, we choose to invest in Riyadh for more room for low buys and high sells."
      ],
      "metadata": {
        "id": "jAQHXH-qDA_3"
      }
    },
    {
      "cell_type": "code",
      "source": [
        "sns.set(style=\"whitegrid\")\n",
        "\n",
        "plt.figure(figsize=(10, 6))\n",
        "sns.boxplot(x=\"city\", y=\"price\", data=df2[df2['city'].isin([\"الرياض\", \"جدة\"])])\n",
        "plt.title(\"Comparison of Land Listing Prices between Riyadh and Jeddah\")\n",
        "plt.xlabel(\"City\")\n",
        "plt.ylabel(\"Price\")\n",
        "plt.show()"
      ],
      "metadata": {
        "colab": {
          "base_uri": "https://localhost:8080/",
          "height": 573
        },
        "id": "ByiL1_oO6U-E",
        "outputId": "80dc12a4-7ae1-4d2f-83b8-c5ef8a262ced"
      },
      "execution_count": null,
      "outputs": [
        {
          "output_type": "display_data",
          "data": {
            "text/plain": [
              "<Figure size 1000x600 with 1 Axes>"
            ],
            "image/png": "[encoded data removed]"
          },
          "metadata": {}
        }
      ]
    },
    {
      "cell_type": "markdown",
      "source": [
        "It is very clear to us how Riyadh is way more diverse that Jedda in land prices, and that although Jeddah and Riyadh has approximately the same level of minimum/maximum price, they differ in average, distribution, and quantity."
      ],
      "metadata": {
        "id": "3X8vmqqG0LQV"
      }
    },
    {
      "cell_type": "markdown",
      "source": [
        "## conclusion 3: Polynomial Regression: Area and Price"
      ],
      "metadata": {
        "id": "-SbcQSGd-oaz"
      }
    },
    {
      "cell_type": "markdown",
      "source": [
        "We will use correlation and polynomial regression to know the best area range for high profit. This will be effective since polynomial regression is highly accurate in findion correlations, specially in this case.\n",
        "\n",
        "First, let's calculate the correlation between area and price."
      ],
      "metadata": {
        "id": "2eB9ArwGB4pZ"
      }
    },
    {
      "cell_type": "code",
      "source": [
        "print(\"The correlation between area and price is: \", df2['area'].corr(df2['price']))"
      ],
      "metadata": {
        "id": "OQgNfgM_-lEI",
        "colab": {
          "base_uri": "https://localhost:8080/"
        },
        "outputId": "f9ddccdb-ca08-4d20-9d8e-2fa3b9a65013"
      },
      "execution_count": null,
      "outputs": [
        {
          "output_type": "stream",
          "name": "stdout",
          "text": [
            "The correlation between area and price is:  0.4735274653412635\n"
          ]
        }
      ]
    },
    {
      "cell_type": "markdown",
      "source": [
        "Now, we are going to implemet what we learned to do a polynomial regression and implement it to find a more accurate correkation between land and area"
      ],
      "metadata": {
        "id": "_HtMHMHe9Ly9"
      }
    },
    {
      "cell_type": "code",
      "source": [
        "df3 = df2\n",
        "sns.regplot(x='area', y='price', data=df3, order=4)\n",
        "plt.title('Relationship between Land Area and Price')\n",
        "plt.xlabel('Area')\n",
        "plt.ylabel('Price')\n",
        "plt.show()"
      ],
      "metadata": {
        "id": "RqIDNM3aBj7_",
        "colab": {
          "base_uri": "https://localhost:8080/",
          "height": 472
        },
        "outputId": "0ded4a77-0ed8-4810-bca1-4cda4a93d5e2"
      },
      "execution_count": null,
      "outputs": [
        {
          "output_type": "display_data",
          "data": {
            "text/plain": [
              "<Figure size 640x480 with 1 Axes>"
            ],
            "image/png": "[encoded data removed]"
          },
          "metadata": {}
        }
      ]
    },
    {
      "cell_type": "markdown",
      "source": [
        "The presented graph shaws a much higher density to the left than to the right, and also a higher density to the bottom than to the top.\n",
        "\n",
        "The general correlation isalmost 0.45; however,in ranges between 1,000 < Area < 3,000, we can see how there are large sets of lands and properties that have prices as low as 1,000, and also many as high as 12,000 making a correlation of (2, 0.16) respictively.\n",
        "\n",
        "What we're looking for is a range of large areas, while at the same availabe in high correlation with price, meaning price being as low as possible. Looking at te graph, we can see the range 3,500 < Area < 5,000 is the golden one for this. It has largely available sets of properties offered for prices lower than the Area itself, with correlation higher than 1.\n",
        "\n",
        "Based on the fitting curve, we will invest in the 3,000-5,500 squared meters range."
      ],
      "metadata": {
        "id": "JsnRDjrDGyNR"
      }
    },
    {
      "cell_type": "markdown",
      "source": [
        "# Machine Learning Analysis"
      ],
      "metadata": {
        "id": "XqVZmAMtkpx6"
      }
    },
    {
      "cell_type": "markdown",
      "source": [
        "We target land offers that have relatively low prices so that after we buy them we can shortly sell them at a profit. In order to do that, we need a model that estimates the value of a land using utilizing existing data of offers in the market. Let's attempt creating and using such a model using machine learning."
      ],
      "metadata": {
        "id": "Sv7S78UXNonf"
      }
    },
    {
      "cell_type": "code",
      "source": [
        "# We import the necessary libraries\n",
        "from sklearn.model_selection import train_test_split\n",
        "from sklearn.preprocessing import StandardScaler\n",
        "from sklearn.neighbors import KNeighborsRegressor\n",
        "from sklearn.metrics import mean_squared_error, r2_score\n",
        "import numpy as np"
      ],
      "metadata": {
        "id": "viWLa82tkfp1"
      },
      "execution_count": 112,
      "outputs": []
    },
    {
      "cell_type": "code",
      "source": [
        "# We handle missing values by dropping rows in which they appear\n",
        "df3 = df3.dropna()"
      ],
      "metadata": {
        "id": "dYSK8ZwNmNro"
      },
      "execution_count": null,
      "outputs": []
    },
    {
      "cell_type": "markdown",
      "source": [
        "The dependent variable, or output (y), is of course *price*.\n",
        "\n",
        "By inspection, the following variables are potentially correlated to price, so we include them in the independent variables, or features (X):\n",
        "\n",
        "- area\n",
        "- district (district_id)\n",
        "- street_width\n",
        "- land width (width)\n",
        "- land length (length)\n",
        "- user review (user_review)\n",
        "- advertiser type (advertiser_type)\n",
        "\n",
        "Because advertiser type is non-numeric categorical, we make it numeric by assigning distinct integers (0, 1, 2, ...) to every unique category."
      ],
      "metadata": {
        "id": "PWXfinBMQMvL"
      }
    },
    {
      "cell_type": "code",
      "source": [
        "\n",
        "advertiser_types = dict.fromkeys(list(X['advertiser_type'].unique()), 0)\n",
        "\n",
        "ctr = 0\n",
        "for k, v in advertiser_types.items():\n",
        "  advertiser_types.update({k : v + ctr})\n",
        "  ctr += 1\n",
        "\n",
        "print(advertiser_types)"
      ],
      "metadata": {
        "colab": {
          "base_uri": "https://localhost:8080/"
        },
        "id": "dEDX8u0ZoQ9b",
        "outputId": "de7e714e-7d56-4e17-9181-162c14569d0e"
      },
      "execution_count": null,
      "outputs": [
        {
          "output_type": "stream",
          "name": "stdout",
          "text": [
            "{'agent': 0, 'exclusive_marketer': 1, 'owner': 2, 'normal_marketer': 3}\n"
          ]
        }
      ]
    },
    {
      "cell_type": "code",
      "source": [
        "df3['advertiser_type'] = df3['advertiser_type'].map(lambda x: advertiser_types[x])\n",
        "df3.head()"
      ],
      "metadata": {
        "colab": {
          "base_uri": "https://localhost:8080/",
          "height": 293
        },
        "id": "JfY0jye4o-4A",
        "outputId": "22e9683b-8388-4574-b446-b20bebc3dca7"
      },
      "execution_count": null,
      "outputs": [
        {
          "output_type": "execute_result",
          "data": {
            "text/plain": [
              "       user_id       id  price  category  area  street_width  user_review  \\\n",
              "17352    87826  2669242  300.0         2   969          20.0         5.00   \n",
              "17353   899032  2682232  300.0         2   661          20.0         4.48   \n",
              "17355   602215  2786422  300.0         2   400          15.0         5.00   \n",
              "17356   498005  2790177  300.0         2   600          12.0         4.29   \n",
              "17371    82958  3234910  300.0         2   460          40.0         4.73   \n",
              "\n",
              "                                        user_name         city  city_id  \\\n",
              "17352                                     عبدالله  مكة المكرمة       94   \n",
              "17353                    مكتب قمة العارض للعقارات        الخرج       13   \n",
              "17355                                     ابونايف       الرياض       21   \n",
              "17356        مؤسسة منقاش الافكار للخدمات العقارية       الرياض       21   \n",
              "17371  مكتب تراحيب جدة للتطوير والاستثمار العقاري         رابغ       73   \n",
              "\n",
              "                          district  district_id  width  length  \\\n",
              "17352                   حي العوالي         3752   30.0    32.0   \n",
              "17353                  حي الراشدية          260   25.0    26.0   \n",
              "17355                    حي الحائر          412   20.0    20.0   \n",
              "17356  حي المدينة الصناعية الجديدة          540   30.0    20.0   \n",
              "17371         حي الفرنيسية الشرقية         3664   23.0    20.0   \n",
              "\n",
              "       advertiser_type                       updatedAt  \n",
              "17352                0  2023-01-01 15:20:57.347 +00:00  \n",
              "17353                1  2023-01-01 18:45:17.363 +00:00  \n",
              "17355                2  2023-01-01 14:48:41.219 +00:00  \n",
              "17356                0  2023-01-01 14:26:22.937 +00:00  \n",
              "17371                0  2023-01-01 15:31:06.684 +00:00  "
            ],
            "text/html": [
              "\n",
              "  <div id=\"df-42e5ac34-8053-40f9-ace8-0df4f9d858c6\" class=\"colab-df-container\">\n",
              "    <div>\n",
              "<style scoped>\n",
              "    .dataframe tbody tr th:only-of-type {\n",
              "        vertical-align: middle;\n",
              "    }\n",
              "\n",
              "    .dataframe tbody tr th {\n",
              "        vertical-align: top;\n",
              "    }\n",
              "\n",
              "    .dataframe thead th {\n",
              "        text-align: right;\n",
              "    }\n",
              "</style>\n",
              "<table border=\"1\" class=\"dataframe\">\n",
              "  <thead>\n",
              "    <tr style=\"text-align: right;\">\n",
              "      <th></th>\n",
              "      <th>user_id</th>\n",
              "      <th>id</th>\n",
              "      <th>price</th>\n",
              "      <th>category</th>\n",
              "      <th>area</th>\n",
              "      <th>street_width</th>\n",
              "      <th>user_review</th>\n",
              "      <th>user_name</th>\n",
              "      <th>city</th>\n",
              "      <th>city_id</th>\n",
              "      <th>district</th>\n",
              "      <th>district_id</th>\n",
              "      <th>width</th>\n",
              "      <th>length</th>\n",
              "      <th>advertiser_type</th>\n",
              "      <th>updatedAt</th>\n",
              "    </tr>\n",
              "  </thead>\n",
              "  <tbody>\n",
              "    <tr>\n",
              "      <th>17352</th>\n",
              "      <td>87826</td>\n",
              "      <td>2669242</td>\n",
              "      <td>300.0</td>\n",
              "      <td>2</td>\n",
              "      <td>969</td>\n",
              "      <td>20.0</td>\n",
              "      <td>5.00</td>\n",
              "      <td>عبدالله</td>\n",
              "      <td>مكة المكرمة</td>\n",
              "      <td>94</td>\n",
              "      <td>حي العوالي</td>\n",
              "      <td>3752</td>\n",
              "      <td>30.0</td>\n",
              "      <td>32.0</td>\n",
              "      <td>0</td>\n",
              "      <td>2023-01-01 15:20:57.347 +00:00</td>\n",
              "    </tr>\n",
              "    <tr>\n",
              "      <th>17353</th>\n",
              "      <td>899032</td>\n",
              "      <td>2682232</td>\n",
              "      <td>300.0</td>\n",
              "      <td>2</td>\n",
              "      <td>661</td>\n",
              "      <td>20.0</td>\n",
              "      <td>4.48</td>\n",
              "      <td>مكتب قمة العارض للعقارات</td>\n",
              "      <td>الخرج</td>\n",
              "      <td>13</td>\n",
              "      <td>حي الراشدية</td>\n",
              "      <td>260</td>\n",
              "      <td>25.0</td>\n",
              "      <td>26.0</td>\n",
              "      <td>1</td>\n",
              "      <td>2023-01-01 18:45:17.363 +00:00</td>\n",
              "    </tr>\n",
              "    <tr>\n",
              "      <th>17355</th>\n",
              "      <td>602215</td>\n",
              "      <td>2786422</td>\n",
              "      <td>300.0</td>\n",
              "      <td>2</td>\n",
              "      <td>400</td>\n",
              "      <td>15.0</td>\n",
              "      <td>5.00</td>\n",
              "      <td>ابونايف</td>\n",
              "      <td>الرياض</td>\n",
              "      <td>21</td>\n",
              "      <td>حي الحائر</td>\n",
              "      <td>412</td>\n",
              "      <td>20.0</td>\n",
              "      <td>20.0</td>\n",
              "      <td>2</td>\n",
              "      <td>2023-01-01 14:48:41.219 +00:00</td>\n",
              "    </tr>\n",
              "    <tr>\n",
              "      <th>17356</th>\n",
              "      <td>498005</td>\n",
              "      <td>2790177</td>\n",
              "      <td>300.0</td>\n",
              "      <td>2</td>\n",
              "      <td>600</td>\n",
              "      <td>12.0</td>\n",
              "      <td>4.29</td>\n",
              "      <td>مؤسسة منقاش الافكار للخدمات العقارية</td>\n",
              "      <td>الرياض</td>\n",
              "      <td>21</td>\n",
              "      <td>حي المدينة الصناعية الجديدة</td>\n",
              "      <td>540</td>\n",
              "      <td>30.0</td>\n",
              "      <td>20.0</td>\n",
              "      <td>0</td>\n",
              "      <td>2023-01-01 14:26:22.937 +00:00</td>\n",
              "    </tr>\n",
              "    <tr>\n",
              "      <th>17371</th>\n",
              "      <td>82958</td>\n",
              "      <td>3234910</td>\n",
              "      <td>300.0</td>\n",
              "      <td>2</td>\n",
              "      <td>460</td>\n",
              "      <td>40.0</td>\n",
              "      <td>4.73</td>\n",
              "      <td>مكتب تراحيب جدة للتطوير والاستثمار العقاري</td>\n",
              "      <td>رابغ</td>\n",
              "      <td>73</td>\n",
              "      <td>حي الفرنيسية الشرقية</td>\n",
              "      <td>3664</td>\n",
              "      <td>23.0</td>\n",
              "      <td>20.0</td>\n",
              "      <td>0</td>\n",
              "      <td>2023-01-01 15:31:06.684 +00:00</td>\n",
              "    </tr>\n",
              "  </tbody>\n",
              "</table>\n",
              "</div>\n",
              "    <div class=\"colab-df-buttons\">\n",
              "\n",
              "  <div class=\"colab-df-container\">\n",
              "    <button class=\"colab-df-convert\" onclick=\"convertToInteractive('df-42e5ac34-8053-40f9-ace8-0df4f9d858c6')\"\n",
              "            title=\"Convert this dataframe to an interactive table.\"\n",
              "            style=\"display:none;\">\n",
              "\n",
              "  <svg xmlns=\"http://www.w3.org/2000/svg\" height=\"24px\" viewBox=\"0 -960 960 960\">\n",
              "    <path d=\"M120-120v-720h720v720H120Zm60-500h600v-160H180v160Zm220 220h160v-160H400v160Zm0 220h160v-160H400v160ZM180-400h160v-160H180v160Zm440 0h160v-160H620v160ZM180-180h160v-160H180v160Zm440 0h160v-160H620v160Z\"/>\n",
              "  </svg>\n",
              "    </button>\n",
              "\n",
              "  <style>\n",
              "    .colab-df-container {\n",
              "      display:flex;\n",
              "      gap: 12px;\n",
              "    }\n",
              "\n",
              "    .colab-df-convert {\n",
              "      background-color: #E8F0FE;\n",
              "      border: none;\n",
              "      border-radius: 50%;\n",
              "      cursor: pointer;\n",
              "      display: none;\n",
              "      fill: #1967D2;\n",
              "      height: 32px;\n",
              "      padding: 0 0 0 0;\n",
              "      width: 32px;\n",
              "    }\n",
              "\n",
              "    .colab-df-convert:hover {\n",
              "      background-color: #E2EBFA;\n",
              "      box-shadow: 0px 1px 2px rgba(60, 64, 67, 0.3), 0px 1px 3px 1px rgba(60, 64, 67, 0.15);\n",
              "      fill: #174EA6;\n",
              "    }\n",
              "\n",
              "    .colab-df-buttons div {\n",
              "      margin-bottom: 4px;\n",
              "    }\n",
              "\n",
              "    [theme=dark] .colab-df-convert {\n",
              "      background-color: #3B4455;\n",
              "      fill: #D2E3FC;\n",
              "    }\n",
              "\n",
              "    [theme=dark] .colab-df-convert:hover {\n",
              "      background-color: #434B5C;\n",
              "      box-shadow: 0px 1px 3px 1px rgba(0, 0, 0, 0.15);\n",
              "      filter: drop-shadow(0px 1px 2px rgba(0, 0, 0, 0.3));\n",
              "      fill: #FFFFFF;\n",
              "    }\n",
              "  </style>\n",
              "\n",
              "    <script>\n",
              "      const buttonEl =\n",
              "        document.querySelector('#df-42e5ac34-8053-40f9-ace8-0df4f9d858c6 button.colab-df-convert');\n",
              "      buttonEl.style.display =\n",
              "        google.colab.kernel.accessAllowed ? 'block' : 'none';\n",
              "\n",
              "      async function convertToInteractive(key) {\n",
              "        const element = document.querySelector('#df-42e5ac34-8053-40f9-ace8-0df4f9d858c6');\n",
              "        const dataTable =\n",
              "          await google.colab.kernel.invokeFunction('convertToInteractive',\n",
              "                                                    [key], {});\n",
              "        if (!dataTable) return;\n",
              "\n",
              "        const docLinkHtml = 'Like what you see? Visit the ' +\n",
              "          '<a target=\"_blank\" href=https://colab.research.google.com/notebooks/data_table.ipynb>data table notebook</a>'\n",
              "          + ' to learn more about interactive tables.';\n",
              "        element.innerHTML = '';\n",
              "        dataTable['output_type'] = 'display_data';\n",
              "        await google.colab.output.renderOutput(dataTable, element);\n",
              "        const docLink = document.createElement('div');\n",
              "        docLink.innerHTML = docLinkHtml;\n",
              "        element.appendChild(docLink);\n",
              "      }\n",
              "    </script>\n",
              "  </div>\n",
              "\n",
              "\n",
              "<div id=\"df-c2407f1a-576a-4c75-aabe-fa995897b522\">\n",
              "  <button class=\"colab-df-quickchart\" onclick=\"quickchart('df-c2407f1a-576a-4c75-aabe-fa995897b522')\"\n",
              "            title=\"Suggest charts\"\n",
              "            style=\"display:none;\">\n",
              "\n",
              "<svg xmlns=\"http://www.w3.org/2000/svg\" height=\"24px\"viewBox=\"0 0 24 24\"\n",
              "     width=\"24px\">\n",
              "    <g>\n",
              "        <path d=\"M19 3H5c-1.1 0-2 .9-2 2v14c0 1.1.9 2 2 2h14c1.1 0 2-.9 2-2V5c0-1.1-.9-2-2-2zM9 17H7v-7h2v7zm4 0h-2V7h2v10zm4 0h-2v-4h2v4z\"/>\n",
              "    </g>\n",
              "</svg>\n",
              "  </button>\n",
              "\n",
              "<style>\n",
              "  .colab-df-quickchart {\n",
              "      --bg-color: #E8F0FE;\n",
              "      --fill-color: #1967D2;\n",
              "      --hover-bg-color: #E2EBFA;\n",
              "      --hover-fill-color: #174EA6;\n",
              "      --disabled-fill-color: #AAA;\n",
              "      --disabled-bg-color: #DDD;\n",
              "  }\n",
              "\n",
              "  [theme=dark] .colab-df-quickchart {\n",
              "      --bg-color: #3B4455;\n",
              "      --fill-color: #D2E3FC;\n",
              "      --hover-bg-color: #434B5C;\n",
              "      --hover-fill-color: #FFFFFF;\n",
              "      --disabled-bg-color: #3B4455;\n",
              "      --disabled-fill-color: #666;\n",
              "  }\n",
              "\n",
              "  .colab-df-quickchart {\n",
              "    background-color: var(--bg-color);\n",
              "    border: none;\n",
              "    border-radius: 50%;\n",
              "    cursor: pointer;\n",
              "    display: none;\n",
              "    fill: var(--fill-color);\n",
              "    height: 32px;\n",
              "    padding: 0;\n",
              "    width: 32px;\n",
              "  }\n",
              "\n",
              "  .colab-df-quickchart:hover {\n",
              "    background-color: var(--hover-bg-color);\n",
              "    box-shadow: 0 1px 2px rgba(60, 64, 67, 0.3), 0 1px 3px 1px rgba(60, 64, 67, 0.15);\n",
              "    fill: var(--button-hover-fill-color);\n",
              "  }\n",
              "\n",
              "  .colab-df-quickchart-complete:disabled,\n",
              "  .colab-df-quickchart-complete:disabled:hover {\n",
              "    background-color: var(--disabled-bg-color);\n",
              "    fill: var(--disabled-fill-color);\n",
              "    box-shadow: none;\n",
              "  }\n",
              "\n",
              "  .colab-df-spinner {\n",
              "    border: 2px solid var(--fill-color);\n",
              "    border-color: transparent;\n",
              "    border-bottom-color: var(--fill-color);\n",
              "    animation:\n",
              "      spin 1s steps(1) infinite;\n",
              "  }\n",
              "\n",
              "  @keyframes spin {\n",
              "    0% {\n",
              "      border-color: transparent;\n",
              "      border-bottom-color: var(--fill-color);\n",
              "      border-left-color: var(--fill-color);\n",
              "    }\n",
              "    20% {\n",
              "      border-color: transparent;\n",
              "      border-left-color: var(--fill-color);\n",
              "      border-top-color: var(--fill-color);\n",
              "    }\n",
              "    30% {\n",
              "      border-color: transparent;\n",
              "      border-left-color: var(--fill-color);\n",
              "      border-top-color: var(--fill-color);\n",
              "      border-right-color: var(--fill-color);\n",
              "    }\n",
              "    40% {\n",
              "      border-color: transparent;\n",
              "      border-right-color: var(--fill-color);\n",
              "      border-top-color: var(--fill-color);\n",
              "    }\n",
              "    60% {\n",
              "      border-color: transparent;\n",
              "      border-right-color: var(--fill-color);\n",
              "    }\n",
              "    80% {\n",
              "      border-color: transparent;\n",
              "      border-right-color: var(--fill-color);\n",
              "      border-bottom-color: var(--fill-color);\n",
              "    }\n",
              "    90% {\n",
              "      border-color: transparent;\n",
              "      border-bottom-color: var(--fill-color);\n",
              "    }\n",
              "  }\n",
              "</style>\n",
              "\n",
              "  <script>\n",
              "    async function quickchart(key) {\n",
              "      const quickchartButtonEl =\n",
              "        document.querySelector('#' + key + ' button');\n",
              "      quickchartButtonEl.disabled = true;  // To prevent multiple clicks.\n",
              "      quickchartButtonEl.classList.add('colab-df-spinner');\n",
              "      try {\n",
              "        const charts = await google.colab.kernel.invokeFunction(\n",
              "            'suggestCharts', [key], {});\n",
              "      } catch (error) {\n",
              "        console.error('Error during call to suggestCharts:', error);\n",
              "      }\n",
              "      quickchartButtonEl.classList.remove('colab-df-spinner');\n",
              "      quickchartButtonEl.classList.add('colab-df-quickchart-complete');\n",
              "    }\n",
              "    (() => {\n",
              "      let quickchartButtonEl =\n",
              "        document.querySelector('#df-c2407f1a-576a-4c75-aabe-fa995897b522 button');\n",
              "      quickchartButtonEl.style.display =\n",
              "        google.colab.kernel.accessAllowed ? 'block' : 'none';\n",
              "    })();\n",
              "  </script>\n",
              "</div>\n",
              "    </div>\n",
              "  </div>\n"
            ],
            "application/vnd.google.colaboratory.intrinsic+json": {
              "type": "dataframe",
              "variable_name": "df3",
              "repr_error": "0"
            }
          },
          "metadata": {},
          "execution_count": 65
        }
      ]
    },
    {
      "cell_type": "code",
      "source": [
        "features = ['area', 'street_width', 'width', 'length', 'user_review', 'advertiser_type', 'district_id']\n",
        "X = df3[features].copy()\n",
        "y = df3['price'].copy()"
      ],
      "metadata": {
        "id": "SpmtyzWHDySi"
      },
      "execution_count": null,
      "outputs": []
    },
    {
      "cell_type": "markdown",
      "source": [
        "**Training**"
      ],
      "metadata": {
        "id": "l3AoM1xkljgH"
      }
    },
    {
      "cell_type": "markdown",
      "source": [
        "The first step in the training process it to split data. We use a 0.7-0.3 train-test split.\n",
        "\n",
        "We transform the features to a standardized scale of values from -1 to 1 to make the learning process easier.\n",
        "\n",
        "Because the more two lands are similar (same district, similar area, similar street width, etc) the more similar, we expect, their prices are, we use a machine learning model that compares a land offer to similar offers. We use K Nearest Neighbors.\n",
        "\n",
        "Attempting to get better results, we use 3 models, each looking at a different number of neighbors. Specifically, we use 5-, 10-, and 20-neighbor models."
      ],
      "metadata": {
        "id": "l2p3eNyJRc04"
      }
    },
    {
      "cell_type": "code",
      "source": [
        "seed = 1\n",
        "X_train, X_test, y_train, y_test = train_test_split(X, y, test_size=0.3, random_state=seed)"
      ],
      "metadata": {
        "id": "4wf8dfiQli-2"
      },
      "execution_count": null,
      "outputs": []
    },
    {
      "cell_type": "code",
      "source": [
        "scaler = StandardScaler()\n",
        "X_train_scaled = scaler.fit_transform(X_train)\n",
        "X_test_scaled = scaler.fit_transform(X_test)"
      ],
      "metadata": {
        "id": "U_0ICz4toGj5"
      },
      "execution_count": null,
      "outputs": []
    },
    {
      "cell_type": "code",
      "source": [
        "models = {\n",
        "    \"KNN5\": KNeighborsRegressor(n_neighbors=5),\n",
        "    \"KNN10\": KNeighborsRegressor(n_neighbors=10),\n",
        "    \"KNN20\": KNeighborsRegressor(n_neighbors=20)\n",
        "}"
      ],
      "metadata": {
        "id": "uw-NL53ineYd"
      },
      "execution_count": null,
      "outputs": []
    },
    {
      "cell_type": "code",
      "source": [
        "# We train each model\n",
        "for model_name, model in models.items():\n",
        "  model.fit(X_train_scaled, np.ravel(y_train))"
      ],
      "metadata": {
        "id": "Mgk8sxKKvvJO"
      },
      "execution_count": null,
      "outputs": []
    },
    {
      "cell_type": "code",
      "source": [
        "y_preds = []\n",
        "for model_name, model in models.items():\n",
        "    y_pred = model.predict(X_test_scaled)\n",
        "    y_preds.append(y_pred)\n",
        "    r2 = r2_score(y_true=y_test, y_pred=y_pred)\n",
        "    print(model_name, \" R sqaured = \", r2)"
      ],
      "metadata": {
        "colab": {
          "base_uri": "https://localhost:8080/"
        },
        "id": "4FTjhzu15_na",
        "outputId": "5ebeb617-e031-4b0e-e849-13b9250a058d"
      },
      "execution_count": null,
      "outputs": [
        {
          "output_type": "stream",
          "name": "stdout",
          "text": [
            "KNN5  R sqaured =  0.5458730106223164\n",
            "KNN10  R sqaured =  0.5437437688460882\n",
            "KNN20  R sqaured =  0.5270694997175345\n"
          ]
        }
      ]
    },
    {
      "cell_type": "markdown",
      "source": [
        "We observe that each of the models has a coefficient of determination $R^2 > 0.5$, meaning that the correlations the models uncovered are to the strong side.\n",
        "\n",
        "Since our models' performance are not weak, we are happy with them and decide to use them to invest in real estate."
      ],
      "metadata": {
        "id": "ssfAoxziTLfN"
      }
    },
    {
      "cell_type": "markdown",
      "source": [
        "Every land offer has a unique id. Here, we make a function that predicts whether a land offer is favorable using our machine learning models.\n",
        "\n",
        "We average the predicted differences between price and \"real\" value per each model."
      ],
      "metadata": {
        "id": "YlkYx9-STsCK"
      }
    },
    {
      "cell_type": "code",
      "source": [
        "def profitable(id) -> bool:\n",
        "  land = df3[df3['id'] == id]\n",
        "  price = land['price']\n",
        "  x = scaler.fit_transform(land[features])\n",
        "\n",
        "  profit = 0\n",
        "  for model_name, model in models.items():\n",
        "    y_pred = model.predict(x)\n",
        "    profit += y_pred - price\n",
        "  profit = profit / 3\n",
        "  return profit > 0"
      ],
      "metadata": {
        "id": "gpKtgNm-_hw1"
      },
      "execution_count": 123,
      "outputs": []
    },
    {
      "cell_type": "markdown",
      "source": [
        "Let's try our model on a sample of land offers."
      ],
      "metadata": {
        "id": "xzMPY_PLUHEN"
      }
    },
    {
      "cell_type": "code",
      "source": [
        "df4 = df3[df3['category'] == 2]\n",
        "rows = df4.sample(5)\n",
        "values = rows['id'].unique()\n",
        "for i in values:\n",
        "  print(\"Land id: \", i)\n",
        "  print(\"Predicted Profitability: \", profitable(i))"
      ],
      "metadata": {
        "colab": {
          "base_uri": "https://localhost:8080/"
        },
        "id": "jX3SYuTRCtNy",
        "outputId": "dfef526b-27b1-4284-d251-74cb2ab2228c"
      },
      "execution_count": 125,
      "outputs": [
        {
          "output_type": "stream",
          "name": "stdout",
          "text": [
            "Land id:  4804882\n",
            "Predicted Profitability:  27942    True\n",
            "Name: price, dtype: bool\n",
            "Land id:  4874349\n",
            "Predicted Profitability:  109077    False\n",
            "Name: price, dtype: bool\n",
            "Land id:  5353694\n",
            "Predicted Profitability:  52813    True\n",
            "Name: price, dtype: bool\n",
            "Land id:  5333717\n",
            "Predicted Profitability:  154758    False\n",
            "Name: price, dtype: bool\n",
            "Land id:  5053727\n",
            "Predicted Profitability:  166635    False\n",
            "Name: price, dtype: bool\n"
          ]
        }
      ]
    }
  ]
}